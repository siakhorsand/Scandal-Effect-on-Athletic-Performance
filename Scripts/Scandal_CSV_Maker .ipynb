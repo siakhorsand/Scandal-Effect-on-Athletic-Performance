{
 "cells": [
  {
   "cell_type": "markdown",
   "id": "f39bd430",
   "metadata": {},
   "source": [
    "This program will use the gnews API to create a CSV file of Scandal information in NBA, MLB, and NFL\n"
   ]
  },
  {
   "cell_type": "code",
   "execution_count": 1,
   "id": "aff7ebc3",
   "metadata": {},
   "outputs": [],
   "source": [
    "import os\n",
    "import requests \n",
    "import pandas as pd"
   ]
  },
  {
   "cell_type": "code",
   "execution_count": 2,
   "id": "ba54d1ea",
   "metadata": {},
   "outputs": [],
   "source": [
    "API_KEY = '815997c641ea76bd876c68803ca13bce'\n",
    "URL = 'https://gnews.io/api/v4/search?q=example&lang=en&country=us&max=10&apikey=815997c641ea76bd876c68803ca13bce'\n",
    "leagues = ['NBA', 'MLB', 'NFL']"
   ]
  },
  {
   "cell_type": "code",
   "execution_count": 3,
   "id": "87e13d8b",
   "metadata": {},
   "outputs": [],
   "source": [
    "\n",
    "for league in leagues:\n",
    "    params = {\n",
    "        'q': f'{league} scandal',\n",
    "        'from': '2013-01-01',\n",
    "        'to': '2024-01-01',\n",
    "        'token': API_KEY,\n",
    "        'lang': 'en',\n",
    "        'country': 'us',\n",
    "        \n",
    "}\n",
    "    \n",
    "response = requests.get(URL, params=params)\n",
    "articles = response.json().get('articles', [])\n",
    "records = []"
   ]
  },
  {
   "cell_type": "code",
   "execution_count": 4,
   "id": "4185958d",
   "metadata": {},
   "outputs": [],
   "source": [
    "def extract_player_name(text):\n",
    "    text_lower = text.lower()\n",
    "    words = text_lower.split()\n",
    "    if 'scandal' in words:\n",
    "            scandal_index = words.index('scandal')\n",
    "            player_name = ' '.join(words[max(0, scandal_index - 2):scandal_index])\n",
    "            return player_name\n",
    "    return 'Unknown'"
   ]
  },
  {
   "cell_type": "code",
   "execution_count": 5,
   "id": "317f08f1",
   "metadata": {},
   "outputs": [],
   "source": [
    "#Create a csv based on the parameters from the API\n",
    "for article in articles:\n",
    "    title = article['title']\n",
    "    description = article['description']\n",
    "    player_name = extract_player_name(title)\n",
    "    url = article['url']\n",
    "    published_at = article['publishedAt']\n",
    "    records.append([title, description, player_name, url, published_at])\n",
    "    \n",
    "    df = pd.DataFrame(records,columns=['Titl', 'Description', 'Player Name', 'URL', 'PublishedAt'])\n",
    "    csv_path = f'/home/skhorsand/Group055_WI24/Scripts/{league}_scandals.csv'\n",
    "    df.to_csv(csv_path, index = False)"
   ]
  }
 ],
 "metadata": {
  "kernelspec": {
   "display_name": "Python 3 (ipykernel)",
   "language": "python",
   "name": "python3"
  },
  "language_info": {
   "codemirror_mode": {
    "name": "ipython",
    "version": 3
   },
   "file_extension": ".py",
   "mimetype": "text/x-python",
   "name": "python",
   "nbconvert_exporter": "python",
   "pygments_lexer": "ipython3",
   "version": "3.9.5"
  }
 },
 "nbformat": 4,
 "nbformat_minor": 5
}
