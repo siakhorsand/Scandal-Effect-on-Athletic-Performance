{
 "cells": [
  {
   "cell_type": "code",
   "execution_count": 3,
   "id": "d71d27c7",
   "metadata": {},
   "outputs": [
    {
     "name": "stdout",
     "output_type": "stream",
     "text": [
      "/home/skhorsand/Group055_WI24/Scripts/API CSVs\n"
     ]
    }
   ],
   "source": [
    "import pandas as pd\n",
    "import os\n",
    "current_directory = os.getcwd()\n",
    "print(current_directory)"
   ]
  },
  {
   "cell_type": "code",
   "execution_count": 4,
   "id": "da2259e0",
   "metadata": {},
   "outputs": [],
   "source": [
    "nfl_scandals = pd.read_csv('/home/skhorsand/Group055_WI24/Scripts/API CSVs/NFL_scandals.csv')\n",
    "nba_scandals = pd.read_csv('/home/skhorsand/Group055_WI24/Scripts/API CSVs/NBA_scandals.csv')\n",
    "mlb_scandals = pd.read_csv('/home/skhorsand/Group055_WI24/Scripts/API CSVs/MLB_scandals.csv')\n"
   ]
  },
  {
   "cell_type": "code",
   "execution_count": 16,
   "id": "bed1f503",
   "metadata": {},
   "outputs": [
    {
     "data": {
      "text/plain": [
       "array(['Tom Brady bawled his eyes out when speaking to Patriots team over Deflategate, Darrelle Revis says',\n",
       "       'Amidst National Championship Hype, Fans Already Declare Jim Harbaugh’s Michigan as Winner',\n",
       "       'How NFL teams view Jim Harbaugh after Michigan sign-stealing scandal',\n",
       "       \"Titans make necessary move to start Will Levis; Michigan scandal stays under fire; NFL's best team is ...\",\n",
       "       \"NFL Legend Chris Howard's Ex-Wife Gabrielle Union's Age-Defying Beauty Sparks Shock Over Missed Role in ABC's Scandal\",\n",
       "       'Top 5 scandals that shook the NFL world',\n",
       "       'Why Jim Harbaugh potentially bolting for NFL amid Michigan cheating scandal could prove difficult, per report',\n",
       "       \"Brett Favre's deposition in Mississippi's welfare scandal is rescheduled for December\",\n",
       "       'Neglecting Tom Brady’s High Profile Status, Jurors Deliver Shocking Statements in Sam Bankman-Fried’s $32 Billion FTX Scandal',\n",
       "       'Despite Losing $30,000,000 in FTX Scandal, Tom Brady Added $25,000,000 to His Staggering Net Worth'],\n",
       "      dtype=object)"
      ]
     },
     "execution_count": 16,
     "metadata": {},
     "output_type": "execute_result"
    }
   ],
   "source": [
    "#NFL \n",
    "nfl_scandals2 = nfl_scandals.drop(['URL'], axis= 1)\n",
    "\n",
    "def convert_date(date_str):\n",
    "    date = pd.to_datetime(date_str)\n",
    "    return date.strftime('%m-%d-%Y')\n",
    "    \n",
    "nfl_scandals2['PublishedAt'] = nfl_scandals2['PublishedAt'].apply(convert_date)\n",
    "\n"
   ]
  },
  {
   "cell_type": "code",
   "execution_count": null,
   "id": "aebc1811",
   "metadata": {},
   "outputs": [],
   "source": []
  }
 ],
 "metadata": {
  "kernelspec": {
   "display_name": "Python 3 (ipykernel)",
   "language": "python",
   "name": "python3"
  },
  "language_info": {
   "codemirror_mode": {
    "name": "ipython",
    "version": 3
   },
   "file_extension": ".py",
   "mimetype": "text/x-python",
   "name": "python",
   "nbconvert_exporter": "python",
   "pygments_lexer": "ipython3",
   "version": "3.9.5"
  }
 },
 "nbformat": 4,
 "nbformat_minor": 5
}
