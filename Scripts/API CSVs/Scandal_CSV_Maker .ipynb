{
 "cells": [
  {
   "cell_type": "markdown",
   "id": "f39bd430",
   "metadata": {},
   "source": [
    "This program will use the gnews API to create a CSV file of Scandal information in NBA, MLB, and NFL\n"
   ]
  },
  {
   "cell_type": "code",
   "execution_count": null,
   "id": "aff7ebc3",
   "metadata": {},
   "outputs": [],
   "source": []
  },
  {
   "cell_type": "code",
   "execution_count": null,
   "id": "ba54d1ea",
   "metadata": {},
   "outputs": [],
   "source": []
  },
  {
   "cell_type": "code",
   "execution_count": null,
   "id": "f54fc0fc",
   "metadata": {},
   "outputs": [],
   "source": []
  },
  {
   "cell_type": "code",
   "execution_count": null,
   "id": "87e13d8b",
   "metadata": {},
   "outputs": [],
   "source": []
  },
  {
   "cell_type": "code",
   "execution_count": null,
   "id": "317f08f1",
   "metadata": {
    "scrolled": true
   },
   "outputs": [],
   "source": []
  },
  {
   "cell_type": "code",
   "execution_count": 1,
   "id": "aa4a6a3f",
   "metadata": {},
   "outputs": [
    {
     "ename": "NameError",
     "evalue": "name 'leagues' is not defined",
     "output_type": "error",
     "traceback": [
      "\u001b[0;31m---------------------------------------------------------------------------\u001b[0m",
      "\u001b[0;31mNameError\u001b[0m                                 Traceback (most recent call last)",
      "\u001b[0;32m/tmp/ipykernel_3353/4132528153.py\u001b[0m in \u001b[0;36m<module>\u001b[0;34m\u001b[0m\n\u001b[1;32m     20\u001b[0m \u001b[0;34m\u001b[0m\u001b[0m\n\u001b[1;32m     21\u001b[0m \u001b[0;34m\u001b[0m\u001b[0m\n\u001b[0;32m---> 22\u001b[0;31m \u001b[0;32mfor\u001b[0m \u001b[0mleague\u001b[0m \u001b[0;32min\u001b[0m \u001b[0mleagues\u001b[0m\u001b[0;34m:\u001b[0m\u001b[0;34m\u001b[0m\u001b[0;34m\u001b[0m\u001b[0m\n\u001b[0m\u001b[1;32m     23\u001b[0m     params = {\n\u001b[1;32m     24\u001b[0m         \u001b[0;34m'q'\u001b[0m\u001b[0;34m:\u001b[0m \u001b[0;34mf'{league} scandal'\u001b[0m\u001b[0;34m,\u001b[0m\u001b[0;34m\u001b[0m\u001b[0;34m\u001b[0m\u001b[0m\n",
      "\u001b[0;31mNameError\u001b[0m: name 'leagues' is not defined"
     ]
    }
   ],
   "source": [
    "import os\n",
    "import requests\n",
    "import pandas as pd\n",
    "\n",
    "API_KEY = '815997c641ea76bd876c68803ca13bce'\n",
    "URL = 'https://gnews.io/api/v4/search'\n",
    "\n",
    "nfl_players = pd.read_csv('/home/skhorsand/Group055_WI24/Data/all_NFL_players.csv')['Name']\n",
    "nba_players = pd.read_csv('/home/skhorsand/Group055_WI24/Data/all_NBA_players.csv')['Player Name']\n",
    "\n",
    "# Combine player names\n",
    "player_names = pd.concat([nfl_players, nba_players]).tolist()\n",
    "\n",
    "def extract_player_name(text, player_names):\n",
    "    text_lower = text.lower()\n",
    "    for player_name in player_names:\n",
    "        if player_name.lower() in text_lower:\n",
    "            return player_name\n",
    "    return 'Unknown'\n",
    "\n",
    "\n",
    "for league in leagues:\n",
    "    params = {\n",
    "        'q': f'{league} scandal',\n",
    "        'from': '2013-01-01',\n",
    "        'to': '2024-01-01',\n",
    "        'token': API_KEY,\n",
    "        'lang': 'en',\n",
    "        'country': 'us',\n",
    "        'max': 10\n",
    "    }\n",
    "    \n",
    "    response = requests.get(URL, params=params)\n",
    "    articles = response.json().get('articles', [])\n",
    "    records = []\n",
    "\n",
    "    for article in articles:\n",
    "        article_text = article['title'] + \" \" + article.get('description', '')\n",
    "        player_name = extract_player_name(article_text, player_names)\n",
    "        title = article['title']\n",
    "        description = article['description']\n",
    "        url = article['url']\n",
    "        published_at = article['publishedAt']\n",
    "        records.append([title, description, player_name, url, published_at])\n",
    "    \n",
    "    df = pd.DataFrame(records, columns=['Title', 'Description', 'Player Name', 'URL', 'PublishedAt'])\n",
    "    csv_path = f'/home/skhorsand/Group055_WI24/Scripts/API CSVs/{league}_scandals.csv'\n",
    "    df.to_csv(csv_path, index = False)"
   ]
  },
  {
   "cell_type": "markdown",
   "id": "a87a3977",
   "metadata": {},
   "source": [
    "test"
   ]
  }
 ],
 "metadata": {
  "kernelspec": {
   "display_name": "Python 3 (ipykernel)",
   "language": "python",
   "name": "python3"
  },
  "language_info": {
   "codemirror_mode": {
    "name": "ipython",
    "version": 3
   },
   "file_extension": ".py",
   "mimetype": "text/x-python",
   "name": "python",
   "nbconvert_exporter": "python",
   "pygments_lexer": "ipython3",
   "version": "3.9.5"
  }
 },
 "nbformat": 4,
 "nbformat_minor": 5
}
