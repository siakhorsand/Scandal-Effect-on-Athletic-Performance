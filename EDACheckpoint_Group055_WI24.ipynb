{
 "cells": [
  {
   "cell_type": "markdown",
   "metadata": {},
   "source": [
    "**If you lost points on the last checkpoint you can get them back by responding to TA/IA feedback**  \n",
    "\n",
    "Update/change the relevant sections where you lost those points, make sure you respond on GitHub Issues to your TA/IA to call their attention to the changes you made here.\n",
    "\n",
    "Please update your Timeline... no battle plan survives contact with the enemy, so make sure we understand how your plans have changed."
   ]
  },
  {
   "cell_type": "markdown",
   "metadata": {},
   "source": [
    "# COGS 108 - EDA Checkpoint"
   ]
  },
  {
   "cell_type": "markdown",
   "metadata": {},
   "source": [
    "# Names\n",
    "\n",
    "- Ant Man\n",
    "- Hulk\n",
    "- Iron Man\n",
    "- Thor\n",
    "- Wasp"
   ]
  },
  {
   "cell_type": "markdown",
   "metadata": {},
   "source": [
    "# Research Question"
   ]
  },
  {
   "cell_type": "markdown",
   "metadata": {},
   "source": [
    "-  Include a specific, clear data science question.\n",
    "-  Make sure what you're measuring (variables) to answer the question is clear\n",
    "\n",
    "What is your research question? Include the specific question you're setting out to answer. This question should be specific, answerable with data, and clear. A general question with specific subquestions is permitted. (1-2 sentences)\n",
    "\n"
   ]
  },
  {
   "cell_type": "markdown",
   "metadata": {},
   "source": [
    "## Background and Prior Work"
   ]
  },
  {
   "cell_type": "markdown",
   "metadata": {},
   "source": [
    "\n",
    "- Include a general introduction to your topic\n",
    "- Include explanation of what work has been done previously\n",
    "- Include citations or links to previous work\n",
    "\n",
    "This section will present the background and context of your topic and question in a few paragraphs. Include a general introduction to your topic and then describe what information you currently know about the topic after doing your initial research. Include references to other projects who have asked similar questions or approached similar problems. Explain what others have learned in their projects.\n",
    "\n",
    "Find some relevant prior work, and reference those sources, summarizing what each did and what they learned. Even if you think you have a totally novel question, find the most similar prior work that you can and discuss how it relates to your project.\n",
    "\n",
    "References can be research publications, but they need not be. Blogs, GitHub repositories, company websites, etc., are all viable references if they are relevant to your project. It must be clear which information comes from which references. (2-3 paragraphs, including at least 2 references)\n",
    "\n",
    " **Use inline citation through HTML footnotes to specify which references support which statements** \n",
    "\n",
    "For example: After government genocide in the 20th century, real birds were replaced with surveillance drones designed to look just like birds.<a name=\"cite_ref-1\"></a>[<sup>1</sup>](#cite_note-1) Use a minimum of 2 or 3 citations, but we prefer more.<a name=\"cite_ref-2\"></a>[<sup>2</sup>](#cite_note-2) You need enough to fully explain and back up important facts. \n",
    "\n",
    "Note that if you click a footnote number in the paragraph above it will transport you to the proper entry in the footnotes list below.  And if you click the ^ in the footnote entry, it will return you to the place in the main text where the footnote is made.\n",
    "\n",
    "To understand the HTML here, `<a name=\"#...\"> </a>` is a tag that allows you produce a named reference for a given location.  Markdown has the construciton `[text with hyperlink](#named reference)` that will produce a clickable link that transports you the named reference.\n",
    "\n",
    "1. <a name=\"cite_note-1\"></a> [^](#cite_ref-1) Lorenz, T. (9 Dec 2021) Birds Aren’t Real, or Are They? Inside a Gen Z Conspiracy Theory. *The New York Times*. https://www.nytimes.com/2021/12/09/technology/birds-arent-real-gen-z-misinformation.html \n",
    "2. <a name=\"cite_note-2\"></a> [^](#cite_ref-2) Also refs should be important to the background, not some randomly chosen vaguely related stuff. Include a web link if possible in refs as above.\n"
   ]
  },
  {
   "cell_type": "markdown",
   "metadata": {},
   "source": [
    "# Hypothesis\n"
   ]
  },
  {
   "cell_type": "markdown",
   "metadata": {},
   "source": [
    "\n",
    "- Include your team's hypothesis\n",
    "- Ensure that this hypothesis is clear to readers\n",
    "- Explain why you think this will be the outcome (what was your thinking?)\n",
    "\n",
    "What is your main hypothesis/predictions about what the answer to your question is? Briefly explain your thinking. (2-3 sentences)"
   ]
  },
  {
   "cell_type": "markdown",
   "metadata": {},
   "source": [
    "# Data"
   ]
  },
  {
   "cell_type": "markdown",
   "metadata": {},
   "source": [
    "## Data overview\n",
    "\n",
    "Since we are using multiple datasets, we will need to effectively combine them. Our two main sources of data will be player performance, and then relevant news about the major sports leagues. We will cross reference the dates of when the relevant news happened, and then analyze the corresponding players performance following this."
   ]
  },
  {
   "cell_type": "markdown",
   "metadata": {},
   "source": [
    "### Tweets about NFL, NBA, MLB in the Last 10 Years"
   ]
  },
  {
   "cell_type": "code",
   "execution_count": 28,
   "metadata": {},
   "outputs": [
    {
     "ename": "NoSuchWindowException",
     "evalue": "Message: no such window: target window already closed\nfrom unknown error: web view not found\n  (Session info: chrome=122.0.6261.111)\nStacktrace:\n\tGetHandleVerifier [0x00007FF77C10AD32+56930]\n\t(No symbol) [0x00007FF77C07F632]\n\t(No symbol) [0x00007FF77BF342E5]\n\t(No symbol) [0x00007FF77BF11D4C]\n\t(No symbol) [0x00007FF77BFA23F7]\n\t(No symbol) [0x00007FF77BFB7891]\n\t(No symbol) [0x00007FF77BF9BA43]\n\t(No symbol) [0x00007FF77BF6D438]\n\t(No symbol) [0x00007FF77BF6E4D1]\n\tGetHandleVerifier [0x00007FF77C486ABD+3709933]\n\tGetHandleVerifier [0x00007FF77C4DFFFD+4075821]\n\tGetHandleVerifier [0x00007FF77C4D818F+4043455]\n\tGetHandleVerifier [0x00007FF77C1A9766+706710]\n\t(No symbol) [0x00007FF77C08B90F]\n\t(No symbol) [0x00007FF77C086AF4]\n\t(No symbol) [0x00007FF77C086C4C]\n\t(No symbol) [0x00007FF77C076904]\n\tBaseThreadInitThunk [0x00007FFAE39A7344+20]\n\tRtlUserThreadStart [0x00007FFAE4CE26B1+33]\n",
     "output_type": "error",
     "traceback": [
      "\u001b[1;31m---------------------------------------------------------------------------\u001b[0m",
      "\u001b[1;31mNoSuchWindowException\u001b[0m                     Traceback (most recent call last)",
      "Cell \u001b[1;32mIn[28], line 74\u001b[0m\n\u001b[0;32m     72\u001b[0m \u001b[38;5;28;01mfor\u001b[39;00m year \u001b[38;5;129;01min\u001b[39;00m \u001b[38;5;28mrange\u001b[39m(\u001b[38;5;241m2013\u001b[39m,\u001b[38;5;241m2023\u001b[39m):\n\u001b[0;32m     73\u001b[0m     \u001b[38;5;28;01mfor\u001b[39;00m start_month \u001b[38;5;129;01min\u001b[39;00m start_months:\n\u001b[1;32m---> 74\u001b[0m         \u001b[43mscrape_curr_page\u001b[49m\u001b[43m(\u001b[49m\u001b[43mstart_month\u001b[49m\u001b[43m,\u001b[49m\u001b[43m \u001b[49m\u001b[43myear\u001b[49m\u001b[43m)\u001b[49m\n\u001b[0;32m     75\u001b[0m         time\u001b[38;5;241m.\u001b[39msleep(\u001b[38;5;241m2\u001b[39m)\n\u001b[0;32m     77\u001b[0m write_to_csv()\n",
      "Cell \u001b[1;32mIn[28], line 38\u001b[0m, in \u001b[0;36mscrape_curr_page\u001b[1;34m(start_month, curr_year)\u001b[0m\n\u001b[0;32m     36\u001b[0m \u001b[38;5;28;01mfor\u001b[39;00m i \u001b[38;5;129;01min\u001b[39;00m \u001b[38;5;28mrange\u001b[39m(\u001b[38;5;241m5\u001b[39m):\n\u001b[0;32m     37\u001b[0m     time\u001b[38;5;241m.\u001b[39msleep(\u001b[38;5;241m7\u001b[39m)  \n\u001b[1;32m---> 38\u001b[0m     resp \u001b[38;5;241m=\u001b[39m \u001b[43mdriver\u001b[49m\u001b[38;5;241;43m.\u001b[39;49m\u001b[43mpage_source\u001b[49m\n\u001b[0;32m     39\u001b[0m     soup \u001b[38;5;241m=\u001b[39m BeautifulSoup(resp, \u001b[38;5;124m'\u001b[39m\u001b[38;5;124mhtml.parser\u001b[39m\u001b[38;5;124m'\u001b[39m)\n\u001b[0;32m     41\u001b[0m     \u001b[38;5;28;01mfor\u001b[39;00m tweet \u001b[38;5;129;01min\u001b[39;00m soup\u001b[38;5;241m.\u001b[39mfind_all(\u001b[38;5;124m\"\u001b[39m\u001b[38;5;124mdiv\u001b[39m\u001b[38;5;124m\"\u001b[39m, {\u001b[38;5;124m\"\u001b[39m\u001b[38;5;124mdata-testid\u001b[39m\u001b[38;5;124m\"\u001b[39m: \u001b[38;5;124m\"\u001b[39m\u001b[38;5;124mcellInnerDiv\u001b[39m\u001b[38;5;124m\"\u001b[39m}):\n",
      "File \u001b[1;32mc:\\Users\\ghawk\\AppData\\Local\\Programs\\Python\\Python310\\lib\\site-packages\\selenium\\webdriver\\remote\\webdriver.py:448\u001b[0m, in \u001b[0;36mWebDriver.page_source\u001b[1;34m(self)\u001b[0m\n\u001b[0;32m    439\u001b[0m \u001b[38;5;129m@property\u001b[39m\n\u001b[0;32m    440\u001b[0m \u001b[38;5;28;01mdef\u001b[39;00m \u001b[38;5;21mpage_source\u001b[39m(\u001b[38;5;28mself\u001b[39m) \u001b[38;5;241m-\u001b[39m\u001b[38;5;241m>\u001b[39m \u001b[38;5;28mstr\u001b[39m:\n\u001b[0;32m    441\u001b[0m \u001b[38;5;250m    \u001b[39m\u001b[38;5;124;03m\"\"\"Gets the source of the current page.\u001b[39;00m\n\u001b[0;32m    442\u001b[0m \n\u001b[0;32m    443\u001b[0m \u001b[38;5;124;03m    :Usage:\u001b[39;00m\n\u001b[1;32m   (...)\u001b[0m\n\u001b[0;32m    446\u001b[0m \u001b[38;5;124;03m            driver.page_source\u001b[39;00m\n\u001b[0;32m    447\u001b[0m \u001b[38;5;124;03m    \"\"\"\u001b[39;00m\n\u001b[1;32m--> 448\u001b[0m     \u001b[38;5;28;01mreturn\u001b[39;00m \u001b[38;5;28;43mself\u001b[39;49m\u001b[38;5;241;43m.\u001b[39;49m\u001b[43mexecute\u001b[49m\u001b[43m(\u001b[49m\u001b[43mCommand\u001b[49m\u001b[38;5;241;43m.\u001b[39;49m\u001b[43mGET_PAGE_SOURCE\u001b[49m\u001b[43m)\u001b[49m[\u001b[38;5;124m\"\u001b[39m\u001b[38;5;124mvalue\u001b[39m\u001b[38;5;124m\"\u001b[39m]\n",
      "File \u001b[1;32mc:\\Users\\ghawk\\AppData\\Local\\Programs\\Python\\Python310\\lib\\site-packages\\selenium\\webdriver\\remote\\webdriver.py:347\u001b[0m, in \u001b[0;36mWebDriver.execute\u001b[1;34m(self, driver_command, params)\u001b[0m\n\u001b[0;32m    345\u001b[0m response \u001b[38;5;241m=\u001b[39m \u001b[38;5;28mself\u001b[39m\u001b[38;5;241m.\u001b[39mcommand_executor\u001b[38;5;241m.\u001b[39mexecute(driver_command, params)\n\u001b[0;32m    346\u001b[0m \u001b[38;5;28;01mif\u001b[39;00m response:\n\u001b[1;32m--> 347\u001b[0m     \u001b[38;5;28;43mself\u001b[39;49m\u001b[38;5;241;43m.\u001b[39;49m\u001b[43merror_handler\u001b[49m\u001b[38;5;241;43m.\u001b[39;49m\u001b[43mcheck_response\u001b[49m\u001b[43m(\u001b[49m\u001b[43mresponse\u001b[49m\u001b[43m)\u001b[49m\n\u001b[0;32m    348\u001b[0m     response[\u001b[38;5;124m\"\u001b[39m\u001b[38;5;124mvalue\u001b[39m\u001b[38;5;124m\"\u001b[39m] \u001b[38;5;241m=\u001b[39m \u001b[38;5;28mself\u001b[39m\u001b[38;5;241m.\u001b[39m_unwrap_value(response\u001b[38;5;241m.\u001b[39mget(\u001b[38;5;124m\"\u001b[39m\u001b[38;5;124mvalue\u001b[39m\u001b[38;5;124m\"\u001b[39m, \u001b[38;5;28;01mNone\u001b[39;00m))\n\u001b[0;32m    349\u001b[0m     \u001b[38;5;28;01mreturn\u001b[39;00m response\n",
      "File \u001b[1;32mc:\\Users\\ghawk\\AppData\\Local\\Programs\\Python\\Python310\\lib\\site-packages\\selenium\\webdriver\\remote\\errorhandler.py:229\u001b[0m, in \u001b[0;36mErrorHandler.check_response\u001b[1;34m(self, response)\u001b[0m\n\u001b[0;32m    227\u001b[0m         alert_text \u001b[38;5;241m=\u001b[39m value[\u001b[38;5;124m\"\u001b[39m\u001b[38;5;124malert\u001b[39m\u001b[38;5;124m\"\u001b[39m]\u001b[38;5;241m.\u001b[39mget(\u001b[38;5;124m\"\u001b[39m\u001b[38;5;124mtext\u001b[39m\u001b[38;5;124m\"\u001b[39m)\n\u001b[0;32m    228\u001b[0m     \u001b[38;5;28;01mraise\u001b[39;00m exception_class(message, screen, stacktrace, alert_text)  \u001b[38;5;66;03m# type: ignore[call-arg]  # mypy is not smart enough here\u001b[39;00m\n\u001b[1;32m--> 229\u001b[0m \u001b[38;5;28;01mraise\u001b[39;00m exception_class(message, screen, stacktrace)\n",
      "\u001b[1;31mNoSuchWindowException\u001b[0m: Message: no such window: target window already closed\nfrom unknown error: web view not found\n  (Session info: chrome=122.0.6261.111)\nStacktrace:\n\tGetHandleVerifier [0x00007FF77C10AD32+56930]\n\t(No symbol) [0x00007FF77C07F632]\n\t(No symbol) [0x00007FF77BF342E5]\n\t(No symbol) [0x00007FF77BF11D4C]\n\t(No symbol) [0x00007FF77BFA23F7]\n\t(No symbol) [0x00007FF77BFB7891]\n\t(No symbol) [0x00007FF77BF9BA43]\n\t(No symbol) [0x00007FF77BF6D438]\n\t(No symbol) [0x00007FF77BF6E4D1]\n\tGetHandleVerifier [0x00007FF77C486ABD+3709933]\n\tGetHandleVerifier [0x00007FF77C4DFFFD+4075821]\n\tGetHandleVerifier [0x00007FF77C4D818F+4043455]\n\tGetHandleVerifier [0x00007FF77C1A9766+706710]\n\t(No symbol) [0x00007FF77C08B90F]\n\t(No symbol) [0x00007FF77C086AF4]\n\t(No symbol) [0x00007FF77C086C4C]\n\t(No symbol) [0x00007FF77C076904]\n\tBaseThreadInitThunk [0x00007FFAE39A7344+20]\n\tRtlUserThreadStart [0x00007FFAE4CE26B1+33]\n"
     ]
    }
   ],
   "source": [
    "#WILL NOT RUN IN JUPYTER NOTEBOOK\n",
    "from bs4 import BeautifulSoup\n",
    "from selenium import webdriver\n",
    "import time\n",
    "import csv\n",
    "\n",
    "options = webdriver.ChromeOptions()\n",
    "driver = webdriver.Chrome(options=options)\n",
    "core_url = 'https://twitter.com/search?q=(nfl%20OR%20mlb%20OR%20nba)%20(from%3AMailOnline%20OR%20from%3ATMZ%20OR%20from%3AYahooNews%20OR%20from%3ANYTimes%20OR%20from%3ACNN%20OR%20from%3AFoxNews%20OR%20from%3ANYPost%20OR%20from%3Aguardian%20OR%20from%3ARollingStone%20OR%20from%3ACBS%20OR%20from%3Awashingtonpost)%20until%3A_ENDDATE_%20since%3A_STARTDATE_%20-filter%3Areplies&src=typed_query&f=top'\n",
    "tweets = []\n",
    "\n",
    "def new_url(start_month, year):\n",
    "    end_year = year\n",
    "    if(start_month == 11):\n",
    "        end_month = 1\n",
    "        end_year = year + 1\n",
    "    else:\n",
    "        end_month = start_month + 2\n",
    "    \n",
    "    \n",
    "    \n",
    "    year = str(year)\n",
    "    end_year = str(end_year)\n",
    "    start_month = str(start_month)\n",
    "    end_month = str(end_month)\n",
    "\n",
    "    target_url = core_url.replace('_STARTDATE_',year+'-'+start_month+'-01').replace('_ENDDATE_',end_year+'-'+end_month+'-01')\n",
    "    return target_url\n",
    "\n",
    "def scroll_page():\n",
    "    driver.execute_script(\"window.scrollTo(0, document.body.scrollHeight);\")\n",
    "#scrape\n",
    "def scrape_curr_page(start_month,curr_year):\n",
    "    target_url = new_url(start_month,curr_year)\n",
    "    driver.get(target_url)\n",
    "    for i in range(5):\n",
    "        time.sleep(7)  \n",
    "        resp = driver.page_source\n",
    "        soup = BeautifulSoup(resp, 'html.parser')\n",
    "        \n",
    "        for tweet in soup.find_all(\"div\", {\"data-testid\": \"cellInnerDiv\"}):\n",
    "            tweet_text_element = tweet.find(\"div\", {\"data-testid\": \"tweetText\"})\n",
    "            if tweet_text_element:\n",
    "                tweet_text = tweet_text_element.get_text().strip()\n",
    "            else:\n",
    "                tweet_text = \"\"\n",
    "            \n",
    "            tweet_user_element = tweet.find('a', href=True) \n",
    "            tweet_date_element = tweet.find('time')\n",
    "            \n",
    "            if tweet_user_element and tweet_date_element:\n",
    "                tweet_user = tweet_user_element.get('href')\n",
    "                tweet_date = tweet_date_element.get('datetime')\n",
    "                tweets.append({'date': tweet_date, 'text': tweet_text, 'user': tweet_user})\n",
    "                \n",
    "        scroll_page()\n",
    "    \n",
    "#add to CSV\n",
    "def write_to_csv():\n",
    "    csv_file_name = 'tweets.csv'\n",
    "    fieldnames = ['date', 'text', 'user']\n",
    "    with open(csv_file_name, mode='w', newline='', encoding='utf-8') as file:\n",
    "        writer = csv.DictWriter(file, fieldnames=fieldnames)\n",
    "        writer.writeheader()\n",
    "        for tweet in tweets:\n",
    "            clean_text = tweet['text'].replace('\\n', ' ')\n",
    "            writer.writerow({'date': tweet['date'], 'text': clean_text, 'user': tweet['user']})\n",
    "    print(f\"Data has been written to {csv_file_name}\")\n",
    "\n",
    "start_months = [1,3,5,7,9,11]\n",
    "\n",
    "for year in range(2013,2023):\n",
    "    for start_month in start_months:\n",
    "        scrape_curr_page(start_month, year)\n",
    "        time.sleep(2)\n",
    "\n",
    "write_to_csv()"
   ]
  },
  {
   "cell_type": "markdown",
   "metadata": {},
   "source": [
    "This is a custom dataset. We created a python script that uses Selenium and BeautifulSoup to scrape Twitter (X) accounts for tweets that mention the NFL, NBA, or MLB. The accounts we are scraping are majors news publications that tend to report on what we are looking for. This script will create a CSV file with the date, content, and which news outlet the relevant tweet came from.\n",
    "To further process this dataset, we performed sentiment analysis using the VADER lexicon (as detailed below), to only keep tweets with a negative sentiment, as that is that we are interested in. We also filtered the tweets for each respective league to only be in the relevant timeframe of their season. We are not interested in the off seasons. The CSV returned by this script can be found in our repo, and is titled 'tweets.csv'"
   ]
  },
  {
   "cell_type": "markdown",
   "metadata": {},
   "source": [
    "### All Players Across History\n",
    "In order to figure out which tweets were about active players when they were written, we needed a dataset of all active players for each league across time, with the players name and years they were active. To do this, we scraped the website https://www.basketball-reference.com for the NBA, and https://www.pro-football-reference.com for the NFL. Since there were only ~15 tweets in the MLB dataframe after cleaning, we could look through it by hand and determine which players were active and relevant."
   ]
  },
  {
   "cell_type": "markdown",
   "metadata": {},
   "source": [
    "Below is the script to scrape for NFL players. The script for NBA players is similar, and both can be located in the Scripts directory. The following script is titled NFLPlayers.py, and the other is NBAPlayers.py. The output of these scripts are all_NFL_players.csv and all_NBA_players.csv, respectively."
   ]
  },
  {
   "cell_type": "code",
   "execution_count": null,
   "metadata": {},
   "outputs": [
    {
     "ename": "ModuleNotFoundError",
     "evalue": "No module named 'requests'",
     "output_type": "error",
     "traceback": [
      "\u001b[1;31m---------------------------------------------------------------------------\u001b[0m",
      "\u001b[1;31mModuleNotFoundError\u001b[0m                       Traceback (most recent call last)",
      "Cell \u001b[1;32mIn[3], line 3\u001b[0m\n\u001b[0;32m      1\u001b[0m \u001b[38;5;66;03m#WILL NOT RUN IN JUPYTER NOTEBOOK\u001b[39;00m\n\u001b[0;32m      2\u001b[0m \u001b[38;5;28;01mfrom\u001b[39;00m \u001b[38;5;21;01mbs4\u001b[39;00m \u001b[38;5;28;01mimport\u001b[39;00m BeautifulSoup\n\u001b[1;32m----> 3\u001b[0m \u001b[38;5;28;01mimport\u001b[39;00m \u001b[38;5;21;01mrequests\u001b[39;00m\n\u001b[0;32m      4\u001b[0m \u001b[38;5;28;01mimport\u001b[39;00m \u001b[38;5;21;01mre\u001b[39;00m\n\u001b[0;32m      6\u001b[0m \u001b[38;5;28;01mimport\u001b[39;00m \u001b[38;5;21;01mcsv\u001b[39;00m\n",
      "\u001b[1;31mModuleNotFoundError\u001b[0m: No module named 'requests'"
     ]
    }
   ],
   "source": [
    "#WILL NOT RUN IN JUPYTER NOTEBOOK\n",
    "from bs4 import BeautifulSoup\n",
    "import requests\n",
    "import re\n",
    "\n",
    "import csv\n",
    "import string\n",
    "\n",
    "\n",
    "core_url = 'https://www.pro-football-reference.com/players/LETTER/'\n",
    "players = []\n",
    "\n",
    "def new_url(letter):\n",
    "    target_url = core_url.replace('LETTER',letter)\n",
    "    return target_url\n",
    "\n",
    "#scrape\n",
    "def scrape_curr_page(letter):\n",
    "    target_url = new_url(letter)\n",
    "    response = requests.get(target_url)\n",
    "    \n",
    "    soup = BeautifulSoup(response.content, 'html.parser')\n",
    "    players_div = soup.find('div', id='div_players')\n",
    "\n",
    "    for p_tag in players_div.find_all('p'):\n",
    "        name = p_tag.find('a').text\n",
    "        p_text = p_tag.text\n",
    "        position_years = re.search(r'\\((.*?)\\)\\s*(\\d{4}-\\d{4})', p_text)\n",
    "    \n",
    "        if position_years:\n",
    "            position = position_years.group(1)\n",
    "            years = position_years.group(2).split('-')\n",
    "        else:\n",
    "            position = ''\n",
    "            years = ['', '']\n",
    "\n",
    "        players.append({\n",
    "            'Name': name,\n",
    "            'Position': position,\n",
    "            'Start Year': years[0],\n",
    "            'End Year': years[1]\n",
    "        })\n",
    "    \n",
    "#add to CSV\n",
    "def write_to_csv():\n",
    "    csv_file_name = 'all_NFL_players.csv'\n",
    "    fieldnames = ['Name', 'Position', 'Start Year', 'End Year']\n",
    "    with open(csv_file_name, mode='w', newline='', encoding='utf-8') as file:\n",
    "        writer = csv.DictWriter(file, fieldnames=fieldnames)\n",
    "        writer.writeheader()\n",
    "        for player in players:\n",
    "            writer.writerow(player)\n",
    "    print(f\"Data has been written to {csv_file_name}\")\n",
    "\n",
    "\n",
    "for letter in list(string.ascii_uppercase):\n",
    "    scrape_curr_page(letter)\n",
    "\n",
    "write_to_csv()"
   ]
  },
  {
   "cell_type": "markdown",
   "metadata": {},
   "source": [
    "### Relevant Player Statistics\n",
    "Once we had narrowed down which players had negative media attention, we could move on to collecting data about each of these players. Since there was <10 players remaining, we could collect this data by hand. For the NFL, we used fantasy data from the site https://fantasydata.com/nfl. For the MLB and NBA players, we used actual game statistics, from https://www.espn.com. For the NBA, we simply used points scored per game. For the MLB, we used the OPS metric, which stands for On-base Plus Slugging. This is a metric meant to combine how well a hitter can reach base, with how well he can hit for average and for power (from https://www.mlb.com/glossary/standard-stats/on-base-plus-slugging). We also included a column for each player with their average of their respective metric, for use in EDA and drawing conclusions."
   ]
  },
  {
   "cell_type": "code",
   "execution_count": 29,
   "metadata": {},
   "outputs": [
    {
     "data": {
      "text/html": [
       "<div>\n",
       "<style scoped>\n",
       "    .dataframe tbody tr th:only-of-type {\n",
       "        vertical-align: middle;\n",
       "    }\n",
       "\n",
       "    .dataframe tbody tr th {\n",
       "        vertical-align: top;\n",
       "    }\n",
       "\n",
       "    .dataframe thead th {\n",
       "        text-align: right;\n",
       "    }\n",
       "</style>\n",
       "<table border=\"1\" class=\"dataframe\">\n",
       "  <thead>\n",
       "    <tr style=\"text-align: right;\">\n",
       "      <th></th>\n",
       "      <th>Player</th>\n",
       "      <th>Position</th>\n",
       "      <th>Date</th>\n",
       "      <th>OPS</th>\n",
       "      <th>Average OPS</th>\n",
       "    </tr>\n",
       "  </thead>\n",
       "  <tbody>\n",
       "    <tr>\n",
       "      <th>0</th>\n",
       "      <td>Ryan Braun</td>\n",
       "      <td>RF</td>\n",
       "      <td>2013-07-21</td>\n",
       "      <td>0.869</td>\n",
       "      <td>0.869</td>\n",
       "    </tr>\n",
       "    <tr>\n",
       "      <th>1</th>\n",
       "      <td>Ryan Braun</td>\n",
       "      <td>RF</td>\n",
       "      <td>2013-07-20</td>\n",
       "      <td>0.873</td>\n",
       "      <td>0.869</td>\n",
       "    </tr>\n",
       "    <tr>\n",
       "      <th>2</th>\n",
       "      <td>Ryan Braun</td>\n",
       "      <td>RF</td>\n",
       "      <td>2013-07-19</td>\n",
       "      <td>0.875</td>\n",
       "      <td>0.869</td>\n",
       "    </tr>\n",
       "    <tr>\n",
       "      <th>3</th>\n",
       "      <td>Ryan Braun</td>\n",
       "      <td>RF</td>\n",
       "      <td>2013-07-09</td>\n",
       "      <td>0.887</td>\n",
       "      <td>0.869</td>\n",
       "    </tr>\n",
       "    <tr>\n",
       "      <th>4</th>\n",
       "      <td>Ryan Braun</td>\n",
       "      <td>RF</td>\n",
       "      <td>2013-06-09</td>\n",
       "      <td>0.890</td>\n",
       "      <td>0.869</td>\n",
       "    </tr>\n",
       "  </tbody>\n",
       "</table>\n",
       "</div>"
      ],
      "text/plain": [
       "       Player Position        Date    OPS  Average OPS\n",
       "0  Ryan Braun       RF  2013-07-21  0.869        0.869\n",
       "1  Ryan Braun       RF  2013-07-20  0.873        0.869\n",
       "2  Ryan Braun       RF  2013-07-19  0.875        0.869\n",
       "3  Ryan Braun       RF  2013-07-09  0.887        0.869\n",
       "4  Ryan Braun       RF  2013-06-09  0.890        0.869"
      ]
     },
     "execution_count": 29,
     "metadata": {},
     "output_type": "execute_result"
    }
   ],
   "source": [
    "MLBStats = pd.read_csv('MLBStats.csv')\n",
    "MLBStats.head()"
   ]
  },
  {
   "cell_type": "code",
   "execution_count": 30,
   "metadata": {},
   "outputs": [
    {
     "data": {
      "text/html": [
       "<div>\n",
       "<style scoped>\n",
       "    .dataframe tbody tr th:only-of-type {\n",
       "        vertical-align: middle;\n",
       "    }\n",
       "\n",
       "    .dataframe tbody tr th {\n",
       "        vertical-align: top;\n",
       "    }\n",
       "\n",
       "    .dataframe thead th {\n",
       "        text-align: right;\n",
       "    }\n",
       "</style>\n",
       "<table border=\"1\" class=\"dataframe\">\n",
       "  <thead>\n",
       "    <tr style=\"text-align: right;\">\n",
       "      <th></th>\n",
       "      <th>Player</th>\n",
       "      <th>Position</th>\n",
       "      <th>Date</th>\n",
       "      <th>Points</th>\n",
       "      <th>Average Points (Season)</th>\n",
       "    </tr>\n",
       "  </thead>\n",
       "  <tbody>\n",
       "    <tr>\n",
       "      <th>0</th>\n",
       "      <td>Malik Monk</td>\n",
       "      <td>SG</td>\n",
       "      <td>2020-02-25</td>\n",
       "      <td>8</td>\n",
       "      <td>11.7</td>\n",
       "    </tr>\n",
       "    <tr>\n",
       "      <th>1</th>\n",
       "      <td>Malik Monk</td>\n",
       "      <td>SG</td>\n",
       "      <td>2020-02-22</td>\n",
       "      <td>15</td>\n",
       "      <td>11.7</td>\n",
       "    </tr>\n",
       "    <tr>\n",
       "      <th>2</th>\n",
       "      <td>Malik Monk</td>\n",
       "      <td>SG</td>\n",
       "      <td>2020-02-20</td>\n",
       "      <td>25</td>\n",
       "      <td>11.7</td>\n",
       "    </tr>\n",
       "    <tr>\n",
       "      <th>3</th>\n",
       "      <td>Malik Monk</td>\n",
       "      <td>SG</td>\n",
       "      <td>2020-02-12</td>\n",
       "      <td>25</td>\n",
       "      <td>11.7</td>\n",
       "    </tr>\n",
       "    <tr>\n",
       "      <th>4</th>\n",
       "      <td>Malik Monk</td>\n",
       "      <td>SG</td>\n",
       "      <td>2020-02-10</td>\n",
       "      <td>17</td>\n",
       "      <td>11.7</td>\n",
       "    </tr>\n",
       "  </tbody>\n",
       "</table>\n",
       "</div>"
      ],
      "text/plain": [
       "       Player Position        Date  Points  Average Points (Season)\n",
       "0  Malik Monk       SG  2020-02-25       8                     11.7\n",
       "1  Malik Monk       SG  2020-02-22      15                     11.7\n",
       "2  Malik Monk       SG  2020-02-20      25                     11.7\n",
       "3  Malik Monk       SG  2020-02-12      25                     11.7\n",
       "4  Malik Monk       SG  2020-02-10      17                     11.7"
      ]
     },
     "execution_count": 30,
     "metadata": {},
     "output_type": "execute_result"
    }
   ],
   "source": [
    "NBAStats = pd.read_csv('NBAStats.csv')\n",
    "NBAStats.head()"
   ]
  },
  {
   "cell_type": "code",
   "execution_count": 31,
   "metadata": {},
   "outputs": [
    {
     "data": {
      "text/html": [
       "<div>\n",
       "<style scoped>\n",
       "    .dataframe tbody tr th:only-of-type {\n",
       "        vertical-align: middle;\n",
       "    }\n",
       "\n",
       "    .dataframe tbody tr th {\n",
       "        vertical-align: top;\n",
       "    }\n",
       "\n",
       "    .dataframe thead th {\n",
       "        text-align: right;\n",
       "    }\n",
       "</style>\n",
       "<table border=\"1\" class=\"dataframe\">\n",
       "  <thead>\n",
       "    <tr style=\"text-align: right;\">\n",
       "      <th></th>\n",
       "      <th>Player</th>\n",
       "      <th>Position</th>\n",
       "      <th>Date</th>\n",
       "      <th>Fantasy Points</th>\n",
       "      <th>Average Points (Season)</th>\n",
       "    </tr>\n",
       "  </thead>\n",
       "  <tbody>\n",
       "    <tr>\n",
       "      <th>0</th>\n",
       "      <td>Odell Beckham Jr.</td>\n",
       "      <td>WR</td>\n",
       "      <td>2015-09-13</td>\n",
       "      <td>4.4</td>\n",
       "      <td>15.6</td>\n",
       "    </tr>\n",
       "    <tr>\n",
       "      <th>1</th>\n",
       "      <td>Odell Beckham Jr.</td>\n",
       "      <td>WR</td>\n",
       "      <td>2015-09-20</td>\n",
       "      <td>20.6</td>\n",
       "      <td>15.6</td>\n",
       "    </tr>\n",
       "    <tr>\n",
       "      <th>2</th>\n",
       "      <td>Odell Beckham Jr.</td>\n",
       "      <td>WR</td>\n",
       "      <td>2015-09-24</td>\n",
       "      <td>13.9</td>\n",
       "      <td>15.6</td>\n",
       "    </tr>\n",
       "    <tr>\n",
       "      <th>3</th>\n",
       "      <td>Odell Beckham Jr.</td>\n",
       "      <td>WR</td>\n",
       "      <td>2015-10-04</td>\n",
       "      <td>3.8</td>\n",
       "      <td>15.6</td>\n",
       "    </tr>\n",
       "    <tr>\n",
       "      <th>4</th>\n",
       "      <td>Odell Beckham Jr.</td>\n",
       "      <td>WR</td>\n",
       "      <td>2015-10-11</td>\n",
       "      <td>18.4</td>\n",
       "      <td>15.6</td>\n",
       "    </tr>\n",
       "  </tbody>\n",
       "</table>\n",
       "</div>"
      ],
      "text/plain": [
       "              Player Position        Date  Fantasy Points  \\\n",
       "0  Odell Beckham Jr.       WR  2015-09-13             4.4   \n",
       "1  Odell Beckham Jr.       WR  2015-09-20            20.6   \n",
       "2  Odell Beckham Jr.       WR  2015-09-24            13.9   \n",
       "3  Odell Beckham Jr.       WR  2015-10-04             3.8   \n",
       "4  Odell Beckham Jr.       WR  2015-10-11            18.4   \n",
       "\n",
       "   Average Points (Season)  \n",
       "0                     15.6  \n",
       "1                     15.6  \n",
       "2                     15.6  \n",
       "3                     15.6  \n",
       "4                     15.6  "
      ]
     },
     "execution_count": 31,
     "metadata": {},
     "output_type": "execute_result"
    }
   ],
   "source": [
    "NFLStats = pd.read_csv('NFLStats.csv')\n",
    "NFLStats.head()"
   ]
  },
  {
   "cell_type": "markdown",
   "metadata": {},
   "source": [
    "# Results\n",
    "\n",
    "## Exploratory Data Analysis"
   ]
  },
  {
   "cell_type": "markdown",
   "metadata": {},
   "source": [
    "### Exploring the Collected Tweets\n",
    "After scraping X (Twitter) for tweets about athletes over the last decade to create the tweets.csv dataset, we now need to clean and analyze what we collected. To do so, we first got rid of any duplicate tweets that were scraped. Then we used the VADER lexicon to perform a sentiment analysis on the remaining tweets, as we are focusing only on negative media attention. "
   ]
  },
  {
   "cell_type": "code",
   "execution_count": 32,
   "metadata": {},
   "outputs": [],
   "source": [
    "import pandas as pd\n",
    "import numpy as np\n",
    "\n",
    "import nltk\n",
    "from nltk.sentiment.vader import SentimentIntensityAnalyzer "
   ]
  },
  {
   "cell_type": "code",
   "execution_count": 33,
   "metadata": {},
   "outputs": [
    {
     "name": "stderr",
     "output_type": "stream",
     "text": [
      "[nltk_data] Downloading package vader_lexicon to\n",
      "[nltk_data]     C:\\Users\\ghawk\\AppData\\Roaming\\nltk_data...\n",
      "[nltk_data]   Package vader_lexicon is already up-to-date!\n"
     ]
    },
    {
     "data": {
      "text/plain": [
       "True"
      ]
     },
     "execution_count": 33,
     "metadata": {},
     "output_type": "execute_result"
    }
   ],
   "source": [
    "nltk.download('vader_lexicon') "
   ]
  },
  {
   "cell_type": "markdown",
   "metadata": {},
   "source": [
    "Import the custom tweets dataset, then cleaning to allow for accurate and easier exploration"
   ]
  },
  {
   "cell_type": "code",
   "execution_count": 34,
   "metadata": {},
   "outputs": [],
   "source": [
    "df = pd.read_csv('tweets.csv')\n",
    "df = df.drop_duplicates()\n",
    "df['date'] = pd.to_datetime(df['date'])\n",
    "df['user'] = df['user'].str.replace('/','',regex=False)"
   ]
  },
  {
   "cell_type": "markdown",
   "metadata": {},
   "source": [
    "Perform sentiment analysis on the tweets using the VADER lexicon in order to determine if the tweets are negative, as desired"
   ]
  },
  {
   "cell_type": "code",
   "execution_count": 35,
   "metadata": {},
   "outputs": [],
   "source": [
    "analyser = SentimentIntensityAnalyzer()"
   ]
  },
  {
   "cell_type": "code",
   "execution_count": 36,
   "metadata": {},
   "outputs": [],
   "source": [
    "df['compound'] = df['text'].apply(lambda x: analyser.polarity_scores(x)['compound'])\n",
    "df = df[df['compound'] <= -0.05]\n",
    "df.reset_index(drop=True, inplace=True)"
   ]
  },
  {
   "cell_type": "markdown",
   "metadata": {},
   "source": [
    "Create subframe of tweets for NBA and filter to only contain tweets from the season"
   ]
  },
  {
   "cell_type": "code",
   "execution_count": 37,
   "metadata": {},
   "outputs": [
    {
     "data": {
      "text/html": [
       "<div>\n",
       "<style scoped>\n",
       "    .dataframe tbody tr th:only-of-type {\n",
       "        vertical-align: middle;\n",
       "    }\n",
       "\n",
       "    .dataframe tbody tr th {\n",
       "        vertical-align: top;\n",
       "    }\n",
       "\n",
       "    .dataframe thead th {\n",
       "        text-align: right;\n",
       "    }\n",
       "</style>\n",
       "<table border=\"1\" class=\"dataframe\">\n",
       "  <thead>\n",
       "    <tr style=\"text-align: right;\">\n",
       "      <th></th>\n",
       "      <th>date</th>\n",
       "      <th>text</th>\n",
       "      <th>user</th>\n",
       "      <th>compound</th>\n",
       "    </tr>\n",
       "  </thead>\n",
       "  <tbody>\n",
       "    <tr>\n",
       "      <th>0</th>\n",
       "      <td>2013-01-02 18:01:25+00:00</td>\n",
       "      <td>NBA Legend Latrell Sprewell -- ARRESTED for Bl...</td>\n",
       "      <td>TMZ</td>\n",
       "      <td>-0.8374</td>\n",
       "    </tr>\n",
       "    <tr>\n",
       "      <th>15</th>\n",
       "      <td>2013-10-10 23:42:20+00:00</td>\n",
       "      <td>NBA Star Kendrick Perkins -- ARRESTED ... Alle...</td>\n",
       "      <td>TMZ</td>\n",
       "      <td>-0.5904</td>\n",
       "    </tr>\n",
       "    <tr>\n",
       "      <th>22</th>\n",
       "      <td>2013-11-21 04:30:39+00:00</td>\n",
       "      <td>Did you see the STRUGGLE SUIT former NBA’er Tr...</td>\n",
       "      <td>TMZ</td>\n",
       "      <td>-0.5147</td>\n",
       "    </tr>\n",
       "    <tr>\n",
       "      <th>23</th>\n",
       "      <td>2013-12-18 01:24:11+00:00</td>\n",
       "      <td>Watch Paul McCartney hit all five stages of gr...</td>\n",
       "      <td>RollingStone</td>\n",
       "      <td>-0.4939</td>\n",
       "    </tr>\n",
       "    <tr>\n",
       "      <th>26</th>\n",
       "      <td>2013-11-06 18:26:24+00:00</td>\n",
       "      <td>Dwight Howard -- Fan Detained After Striking N...</td>\n",
       "      <td>TMZ</td>\n",
       "      <td>-0.1027</td>\n",
       "    </tr>\n",
       "  </tbody>\n",
       "</table>\n",
       "</div>"
      ],
      "text/plain": [
       "                        date  \\\n",
       "0  2013-01-02 18:01:25+00:00   \n",
       "15 2013-10-10 23:42:20+00:00   \n",
       "22 2013-11-21 04:30:39+00:00   \n",
       "23 2013-12-18 01:24:11+00:00   \n",
       "26 2013-11-06 18:26:24+00:00   \n",
       "\n",
       "                                                 text          user  compound  \n",
       "0   NBA Legend Latrell Sprewell -- ARRESTED for Bl...           TMZ   -0.8374  \n",
       "15  NBA Star Kendrick Perkins -- ARRESTED ... Alle...           TMZ   -0.5904  \n",
       "22  Did you see the STRUGGLE SUIT former NBA’er Tr...           TMZ   -0.5147  \n",
       "23  Watch Paul McCartney hit all five stages of gr...  RollingStone   -0.4939  \n",
       "26  Dwight Howard -- Fan Detained After Striking N...           TMZ   -0.1027  "
      ]
     },
     "execution_count": 37,
     "metadata": {},
     "output_type": "execute_result"
    }
   ],
   "source": [
    "NBA_df = df[df['text'].str.contains('NBA', case=False)]\n",
    "NBA_df = NBA_df[NBA_df['date'].dt.month.isin([10,11,12,1,2,3,4])]\n",
    "NBA_df.head()"
   ]
  },
  {
   "cell_type": "markdown",
   "metadata": {},
   "source": [
    "Create subframe of tweets for MLB and filter to only contain tweets from the season. Since this ending up being a small dataframe, we can immediately export it to a CSV so we can see what the relevant tweets were."
   ]
  },
  {
   "cell_type": "code",
   "execution_count": 38,
   "metadata": {},
   "outputs": [],
   "source": [
    "MLB_df = df[df['text'].str.contains('MLB', case=False)]\n",
    "MLB_df = MLB_df[MLB_df['date'].dt.month.isin([3,4,5,6,7,8,9,10])]\n",
    "MLB_df.to_csv('MLB_tweets.csv', sep=',', index=False, encoding='utf-8')"
   ]
  },
  {
   "cell_type": "markdown",
   "metadata": {},
   "source": [
    "Create subframe of tweets for NFL and filter to only contain tweets from the season"
   ]
  },
  {
   "cell_type": "code",
   "execution_count": 39,
   "metadata": {},
   "outputs": [
    {
     "data": {
      "text/html": [
       "<div>\n",
       "<style scoped>\n",
       "    .dataframe tbody tr th:only-of-type {\n",
       "        vertical-align: middle;\n",
       "    }\n",
       "\n",
       "    .dataframe tbody tr th {\n",
       "        vertical-align: top;\n",
       "    }\n",
       "\n",
       "    .dataframe thead th {\n",
       "        text-align: right;\n",
       "    }\n",
       "</style>\n",
       "<table border=\"1\" class=\"dataframe\">\n",
       "  <thead>\n",
       "    <tr style=\"text-align: right;\">\n",
       "      <th></th>\n",
       "      <th>date</th>\n",
       "      <th>text</th>\n",
       "      <th>user</th>\n",
       "      <th>compound</th>\n",
       "    </tr>\n",
       "  </thead>\n",
       "  <tbody>\n",
       "    <tr>\n",
       "      <th>1</th>\n",
       "      <td>2013-02-04 21:46:04+00:00</td>\n",
       "      <td>NFL finds \"no indication\" that Beyonce caused ...</td>\n",
       "      <td>RollingStone</td>\n",
       "      <td>-0.2960</td>\n",
       "    </tr>\n",
       "    <tr>\n",
       "      <th>4</th>\n",
       "      <td>2013-08-29 04:20:00+00:00</td>\n",
       "      <td>Read our full in-depth story about NFL player ...</td>\n",
       "      <td>RollingStone</td>\n",
       "      <td>-0.7845</td>\n",
       "    </tr>\n",
       "    <tr>\n",
       "      <th>5</th>\n",
       "      <td>2013-08-31 16:45:07+00:00</td>\n",
       "      <td>Patriots drop Tim Tebow after just 12 weeks; N...</td>\n",
       "      <td>nypost</td>\n",
       "      <td>-0.2732</td>\n",
       "    </tr>\n",
       "    <tr>\n",
       "      <th>7</th>\n",
       "      <td>2013-08-31 15:23:07+00:00</td>\n",
       "      <td>Aaron Hernandez was a promising NFL player, bu...</td>\n",
       "      <td>RollingStone</td>\n",
       "      <td>-0.7634</td>\n",
       "    </tr>\n",
       "    <tr>\n",
       "      <th>8</th>\n",
       "      <td>2013-08-28 18:06:04+00:00</td>\n",
       "      <td>Aaron Hernandez might have been one of the NFL...</td>\n",
       "      <td>RollingStone</td>\n",
       "      <td>-0.8140</td>\n",
       "    </tr>\n",
       "  </tbody>\n",
       "</table>\n",
       "</div>"
      ],
      "text/plain": [
       "                       date  \\\n",
       "1 2013-02-04 21:46:04+00:00   \n",
       "4 2013-08-29 04:20:00+00:00   \n",
       "5 2013-08-31 16:45:07+00:00   \n",
       "7 2013-08-31 15:23:07+00:00   \n",
       "8 2013-08-28 18:06:04+00:00   \n",
       "\n",
       "                                                text          user  compound  \n",
       "1  NFL finds \"no indication\" that Beyonce caused ...  RollingStone   -0.2960  \n",
       "4  Read our full in-depth story about NFL player ...  RollingStone   -0.7845  \n",
       "5  Patriots drop Tim Tebow after just 12 weeks; N...        nypost   -0.2732  \n",
       "7  Aaron Hernandez was a promising NFL player, bu...  RollingStone   -0.7634  \n",
       "8  Aaron Hernandez might have been one of the NFL...  RollingStone   -0.8140  "
      ]
     },
     "execution_count": 39,
     "metadata": {},
     "output_type": "execute_result"
    }
   ],
   "source": [
    "NFL_df = df[df['text'].str.contains('NFL', case=False)]\n",
    "NFL_df = NFL_df[NFL_df['date'].dt.month.isin([8,9,10,11,12,1,2])]\n",
    "NFL_df.head()"
   ]
  },
  {
   "cell_type": "markdown",
   "metadata": {},
   "source": [
    "Import the custom dataset we created of all active NFL players in history, then filter it to only include active players in the last 10 years"
   ]
  },
  {
   "cell_type": "code",
   "execution_count": 40,
   "metadata": {},
   "outputs": [],
   "source": [
    "NFL_players_df = pd.read_csv('all_NFL_players.csv')\n",
    "NFL_players_df = NFL_players_df[NFL_players_df['Start Year'] >= 2013]\n",
    "list_of_NFL = NFL_players_df['Name'].tolist()"
   ]
  },
  {
   "cell_type": "markdown",
   "metadata": {},
   "source": [
    "Cross reference this player database with the tweets, and only keep tweets that mention active players. Then, export the remaining tweets to a CSV for further use."
   ]
  },
  {
   "cell_type": "code",
   "execution_count": 41,
   "metadata": {},
   "outputs": [],
   "source": [
    "NFL_df['contains_player'] = NFL_df['text'].apply(lambda x: any(name in x for name in list_of_NFL))\n",
    "NFL_df = NFL_df[NFL_df['contains_player']]\n",
    "NFL_df.to_csv('NFL_tweets.csv', sep=',', index=False, encoding='utf-8')"
   ]
  },
  {
   "cell_type": "markdown",
   "metadata": {},
   "source": [
    "Repeat the same steps for the NBA"
   ]
  },
  {
   "cell_type": "code",
   "execution_count": 42,
   "metadata": {},
   "outputs": [],
   "source": [
    "NBA_players_df = pd.read_csv('all_NBA_players.csv')\n",
    "NBA_players_df = NBA_players_df[NBA_players_df['From Year'] >= 2013]\n",
    "list_of_NBA = NBA_players_df['Player Name'].tolist()"
   ]
  },
  {
   "cell_type": "code",
   "execution_count": 43,
   "metadata": {},
   "outputs": [],
   "source": [
    "NBA_df['contains_player'] = NBA_df['text'].apply(lambda x: any(name in x for name in list_of_NBA))\n",
    "NBA_df = NBA_df[NBA_df['contains_player']]\n",
    "NBA_df.to_csv('NBA_tweets.csv', sep=',', index=False, encoding='utf-8')"
   ]
  },
  {
   "cell_type": "markdown",
   "metadata": {},
   "source": [
    "After running all of these cells, we were left with 3 CSV files--one for each league. These files contain about 5-15 tweets each, of what are thought to be the most relevant tweets for our research. After opening up and taking a further look at the output, we were left with only 7 relevant tweets about players. Since there were only 7 players to analyze stats for, we did this by hand, and created 3 more datasets. These datasets are further described in the previous section, under the title 'Relevant Player Statistics'. "
   ]
  },
  {
   "cell_type": "markdown",
   "metadata": {},
   "source": [
    "### Section 2 of EDA if you need it  - please give it a better title than this\n",
    "\n",
    "Some more words and stuff.  Remember notebooks work best if you interleave the code that generates a result with properly annotate figures and text that puts these results into context."
   ]
  },
  {
   "cell_type": "code",
   "execution_count": 46,
   "metadata": {},
   "outputs": [
    {
     "name": "stdout",
     "output_type": "stream",
     "text": [
      "NBA Tweets Columns: Index(['date', 'text', 'user', 'compound', 'contains_player'], dtype='object')\n",
      "NBA Stats Columns: Index(['Player', 'Position', 'Date', 'Points', 'Average Points (Season)'], dtype='object')\n",
      "NFL Tweets Columns: Index(['date', 'text', 'user', 'compound', 'contains_player'], dtype='object')\n",
      "NFL Stats Columns: Index(['Player', 'Position', 'Date', 'Fantasy Points',\n",
      "       'Average Points (Season)'],\n",
      "      dtype='object')\n",
      "MLB Tweets Columns: Index(['date', 'text', 'user', 'compound'], dtype='object')\n",
      "MLB Stats Columns: Index(['Player', 'Position', 'Date', 'OPS', 'Average OPS'], dtype='object')\n"
     ]
    }
   ],
   "source": [
    "print(\"NBA Tweets Columns:\", nba_tweets.columns)\n",
    "print(\"NBA Stats Columns:\", nba_stats.columns)\n",
    "print(\"NFL Tweets Columns:\", nfl_tweets.columns)\n",
    "print(\"NFL Stats Columns:\", nfl_stats.columns)\n",
    "print(\"MLB Tweets Columns:\", mlb_tweets.columns)\n",
    "print(\"MLB Stats Columns:\", mlb_stats.columns)"
   ]
  },
  {
   "cell_type": "code",
   "execution_count": 49,
   "metadata": {},
   "outputs": [],
   "source": [
    "import pandas as pd\n",
    "\n",
    "# Load the datasets\n",
    "nba_tweets = pd.read_csv('NBA_tweets.csv')\n",
    "nba_stats = pd.read_csv('NBAStats.csv')\n",
    "\n",
    "nfl_tweets = pd.read_csv('NFL_tweets.csv')\n",
    "nfl_stats = pd.read_csv('NFLStats.csv')\n",
    "\n",
    "mlb_tweets = pd.read_csv('MLB_tweets.csv')\n",
    "mlb_stats = pd.read_csv('MLBStats.csv')\n",
    "\n",
    "# Convert date columns to datetime format and ensure they are without timezone information\n",
    "nba_tweets['date'] = pd.to_datetime(nba_tweets['date']).dt.tz_localize(None)\n",
    "nba_stats['Date'] = pd.to_datetime(nba_stats['Date'])\n",
    "\n",
    "nfl_tweets['date'] = pd.to_datetime(nfl_tweets['date']).dt.tz_localize(None)\n",
    "nfl_stats['Date'] = pd.to_datetime(nfl_stats['Date'])\n",
    "\n",
    "mlb_tweets['date'] = pd.to_datetime(mlb_tweets['date']).dt.tz_localize(None)\n",
    "mlb_stats['Date'] = pd.to_datetime(mlb_stats['Date'])\n",
    "\n",
    "# Filter out the tweets that mention players and then merge\n",
    "nba_merged = nba_tweets[nba_tweets['contains_player']].merge(nba_stats, left_on='date', right_on='Date')\n",
    "nfl_merged = nfl_tweets[nfl_tweets['contains_player']].merge(nfl_stats, left_on='date', right_on='Date')\n",
    "mlb_merged = mlb_tweets.merge(mlb_stats, left_on='date', right_on='Date')\n",
    "\n",
    "# Save the merged dataframes to CSV files\n",
    "nba_merged.to_csv('NBA_Merged.csv', index=False)\n",
    "nfl_merged.to_csv('NFL_Merged.csv', index=False)\n",
    "mlb_merged.to_csv('MLB_Merged.csv', index=False)"
   ]
  },
  {
   "cell_type": "code",
   "execution_count": 58,
   "metadata": {},
   "outputs": [
    {
     "data": {
      "image/png": "[encoded data removed]",
      "text/plain": [
       "<Figure size 1000x600 with 1 Axes>"
      ]
     },
     "metadata": {},
     "output_type": "display_data"
    },
    {
     "data": {
      "image/png": "[encoded data removed]",
      "text/plain": [
       "<Figure size 1000x600 with 1 Axes>"
      ]
     },
     "metadata": {},
     "output_type": "display_data"
    },
    {
     "data": {
      "image/png": "[encoded data removed]",
      "text/plain": [
       "<Figure size 1000x600 with 1 Axes>"
      ]
     },
     "metadata": {},
     "output_type": "display_data"
    }
   ],
   "source": [
    "import matplotlib.pyplot as plt\n",
    "import matplotlib.dates as mdates\n",
    "import pandas as pd\n",
    "\n",
    "def plot_performance_timeline(stats, tweets, metric, player_col='Player'):\n",
    "    # Ensure we are working with the correct column names\n",
    "    if player_col not in stats.columns or 'date' not in tweets.columns:\n",
    "        raise ValueError(\"The specified player_col or date column does not exist in the provided DataFrames.\")\n",
    "    \n",
    "    # Convert dates to pandas datetime format for both stats and tweets\n",
    "    stats['Date'] = pd.to_datetime(stats['Date'])\n",
    "    tweets['date'] = pd.to_datetime(tweets['date'])\n",
    "\n",
    "    # Sort the stats DataFrame based on the Date\n",
    "    stats.sort_values(by='Date', inplace=True)\n",
    "\n",
    "    # Get the unique scandal dates from the tweets DataFrame\n",
    "    scandal_dates = tweets['date'].unique()\n",
    "\n",
    "    for scandal_date in scandal_dates:\n",
    "        # Filter the stats for dates before and after the scandal\n",
    "        before_scandal = stats[stats['Date'] < scandal_date]\n",
    "        after_scandal = stats[stats['Date'] > scandal_date]\n",
    "\n",
    "        # Skip if no data is available before or after the scandal date\n",
    "        if before_scandal.empty or after_scandal.empty:\n",
    "            continue\n",
    "\n",
    "        # Get the mean performance before and after the scandal\n",
    "        mean_before = before_scandal[metric].mean()\n",
    "        mean_after = after_scandal[metric].mean()\n",
    "\n",
    "        # Create a DataFrame for plotting\n",
    "        df_plot = pd.DataFrame({\n",
    "            'Date': [before_scandal['Date'].iloc[-1], after_scandal['Date'].iloc[0]],\n",
    "            metric: [mean_before, mean_after]\n",
    "        })\n",
    "\n",
    "        # Plotting the timeline\n",
    "        plt.figure(figsize=(10, 6))\n",
    "        plt.plot(df_plot['Date'], df_plot[metric], marker='o', linestyle='-')\n",
    "        plt.axvline(x=scandal_date, color='red', linestyle='--', lw=2, label='Scandal Date')\n",
    "\n",
    "        # Formatting the plot\n",
    "        plt.xlabel('Date')\n",
    "        plt.ylabel(metric)\n",
    "        plt.title(f'Average {metric} Before and After Scandal Date')\n",
    "        plt.legend()\n",
    "        plt.tight_layout()\n",
    "\n",
    "        # Show the plot\n",
    "        plt.show()\n",
    "\n",
    "# Example call for the function\n",
    "plot_performance_timeline(nba_stats, nba_tweets, 'Points')\n"
   ]
  },
  {
   "cell_type": "markdown",
   "metadata": {},
   "source": [
    "# Ethics & Privacy"
   ]
  },
  {
   "cell_type": "markdown",
   "metadata": {},
   "source": [
    "- Thoughtful discussion of ethical concerns included\n",
    "- Ethical concerns consider the whole data science process (question asked, data collected, data being used, the bias in data, analysis, post-analysis, etc.)\n",
    "- How your group handled bias/ethical concerns clearly described\n",
    "\n",
    "Acknowledge and address any ethics & privacy related issues of your question(s), proposed dataset(s), and/or analyses. Use the information provided in lecture to guide your group discussion and thinking. If you need further guidance, check out [Deon's Ethics Checklist](http://deon.drivendata.org/#data-science-ethics-checklist). In particular:\n",
    "\n",
    "- Are there any biases/privacy/terms of use issues with the data you propsed?\n",
    "- Are there potential biases in your dataset(s), in terms of who it composes, and how it was collected, that may be problematic in terms of it allowing for equitable analysis? (For example, does your data exclude particular populations, or is it likely to reflect particular human biases in a way that could be a problem?)\n",
    "- How will you set out to detect these specific biases before, during, and after/when communicating your analysis?\n",
    "- Are there any other issues related to your topic area, data, and/or analyses that are potentially problematic in terms of data privacy and equitable impact?\n",
    "- How will you handle issues you identified?"
   ]
  },
  {
   "cell_type": "markdown",
   "metadata": {},
   "source": [
    "# Team Expectations "
   ]
  },
  {
   "cell_type": "markdown",
   "metadata": {},
   "source": [
    "\n",
    "Read over the [COGS108 Team Policies](https://github.com/COGS108/Projects/blob/master/COGS108_TeamPolicies.md) individually. Then, include your group’s expectations of one another for successful completion of your COGS108 project below. Discuss and agree on what all of your expectations are. Discuss how your team will communicate throughout the quarter and consider how you will communicate respectfully should conflicts arise. By including each member’s name above and by adding their name to the submission, you are indicating that you have read the COGS108 Team Policies, accept your team’s expectations below, and have every intention to fulfill them. These expectations are for your team’s use and benefit — they won’t be graded for their details.\n",
    "\n",
    "* *Team Expectation 1*\n",
    "* *Team Expectation 2*\n",
    "* *Team Expecation 3*\n",
    "* ..."
   ]
  },
  {
   "cell_type": "markdown",
   "metadata": {},
   "source": [
    "# Project Timeline Proposal"
   ]
  },
  {
   "cell_type": "markdown",
   "metadata": {},
   "source": [
    "Specify your team's specific project timeline. An example timeline has been provided. Changes the dates, times, names, and details to fit your group's plan.\n",
    "\n",
    "If you think you will need any special resources or training outside what we have covered in COGS 108 to solve your problem, then your proposal should state these clearly. For example, if you have selected a problem that involves implementing multiple neural networks, please state this so we can make sure you know what you’re doing and so we can point you to resources you will need to implement your project. Note that you are not required to use outside methods.\n",
    "\n",
    "\n",
    "\n",
    "| Meeting Date  | Meeting Time| Completed Before Meeting  | Discuss at Meeting |\n",
    "|---|---|---|---|\n",
    "| 1/20  |  1 PM | Read & Think about COGS 108 expectations; brainstorm topics/questions  | Determine best form of communication; Discuss and decide on final project topic; discuss hypothesis; begin background research | \n",
    "| 1/26  |  10 AM |  Do background research on topic | Discuss ideal dataset(s) and ethics; draft project proposal | \n",
    "| 2/1  | 10 AM  | Edit, finalize, and submit proposal; Search for datasets  | Discuss Wrangling and possible analytical approaches; Assign group members to lead each specific part   |\n",
    "| 2/14  | 6 PM  | Import & Wrangle Data (Ant Man); EDA (Hulk) | Review/Edit wrangling/EDA; Discuss Analysis Plan   |\n",
    "| 2/23  | 12 PM  | Finalize wrangling/EDA; Begin Analysis (Iron Man; Thor) | Discuss/edit Analysis; Complete project check-in |\n",
    "| 3/13  | 12 PM  | Complete analysis; Draft results/conclusion/discussion (Wasp)| Discuss/edit full project |\n",
    "| 3/20  | Before 11:59 PM  | NA | Turn in Final Project & Group Project Surveys |"
   ]
  }
 ],
 "metadata": {
  "kernelspec": {
   "display_name": "Python 3 (ipykernel)",
   "language": "python",
   "name": "python3"
  },
  "language_info": {
   "codemirror_mode": {
    "name": "ipython",
    "version": 3
   },
   "file_extension": ".py",
   "mimetype": "text/x-python",
   "name": "python",
   "nbconvert_exporter": "python",
   "pygments_lexer": "ipython3",
   "version": "3.10.6"
  }
 },
 "nbformat": 4,
 "nbformat_minor": 2
}
