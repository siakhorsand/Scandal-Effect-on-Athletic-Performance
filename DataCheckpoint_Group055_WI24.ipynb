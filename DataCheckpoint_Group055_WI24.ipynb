{
 "cells": [
  {
   "cell_type": "markdown",
   "metadata": {},
   "source": [
    "**If you lost points on the last checkpoint you can get them back by responding to TA/IA feedback**  \n",
    "\n",
    "Update/change the relevant sections where you lost those points, make sure you respond on GitHub Issues to your TA/IA to call their attention to the changes you made here.\n",
    "\n",
    "Please update your Timeline... no battle plan survives contact with the enemy, so make sure we understand how your plans have changed."
   ]
  },
  {
   "cell_type": "markdown",
   "metadata": {},
   "source": [
    "# COGS 108 - Data Checkpoint"
   ]
  },
  {
   "cell_type": "markdown",
   "metadata": {},
   "source": [
    "# Names\n",
    "\n",
    "- Gabriel Colon\n",
    "- Sia Khorsand\n",
    "- Paul Kim\n",
    "- Ava Rubin\n",
    "- Ivan Smith"
   ]
  },
  {
   "cell_type": "markdown",
   "metadata": {},
   "source": [
    "# Research Question"
   ]
  },
  {
   "cell_type": "markdown",
   "metadata": {},
   "source": [
    "-  Include a specific, clear data science question.\n",
    "-  Make sure what you're measuring (variables) to answer the question is clear\n",
    "\n",
    "What is your research question? Include the specific question you're setting out to answer. This question should be specific, answerable with data, and clear. A general question with specific subquestions is permitted. (1-2 sentences)\n",
    "\n"
   ]
  },
  {
   "cell_type": "markdown",
   "metadata": {},
   "source": [
    "## Background and Prior Work"
   ]
  },
  {
   "cell_type": "markdown",
   "metadata": {},
   "source": [
    "\n",
    "- Include a general introduction to your topic\n",
    "- Include explanation of what work has been done previously\n",
    "- Include citations or links to previous work\n",
    "\n",
    "This section will present the background and context of your topic and question in a few paragraphs. Include a general introduction to your topic and then describe what information you currently know about the topic after doing your initial research. Include references to other projects who have asked similar questions or approached similar problems. Explain what others have learned in their projects.\n",
    "\n",
    "Find some relevant prior work, and reference those sources, summarizing what each did and what they learned. Even if you think you have a totally novel question, find the most similar prior work that you can and discuss how it relates to your project.\n",
    "\n",
    "References can be research publications, but they need not be. Blogs, GitHub repositories, company websites, etc., are all viable references if they are relevant to your project. It must be clear which information comes from which references. (2-3 paragraphs, including at least 2 references)\n",
    "\n",
    " **Use inline citation through HTML footnotes to specify which references support which statements** \n",
    "\n",
    "For example: After government genocide in the 20th century, real birds were replaced with surveillance drones designed to look just like birds.<a name=\"cite_ref-1\"></a>[<sup>1</sup>](#cite_note-1) Use a minimum of 2 or 3 citations, but we prefer more.<a name=\"cite_ref-2\"></a>[<sup>2</sup>](#cite_note-2) You need enough to fully explain and back up important facts. \n",
    "\n",
    "Note that if you click a footnote number in the paragraph above it will transport you to the proper entry in the footnotes list below.  And if you click the ^ in the footnote entry, it will return you to the place in the main text where the footnote is made.\n",
    "\n",
    "To understand the HTML here, `<a name=\"#...\"> </a>` is a tag that allows you produce a named reference for a given location.  Markdown has the construciton `[text with hyperlink](#named reference)` that will produce a clickable link that transports you the named reference.\n",
    "\n",
    "1. <a name=\"cite_note-1\"></a> [^](#cite_ref-1) Lorenz, T. (9 Dec 2021) Birds Aren’t Real, or Are They? Inside a Gen Z Conspiracy Theory. *The New York Times*. https://www.nytimes.com/2021/12/09/technology/birds-arent-real-gen-z-misinformation.html \n",
    "2. <a name=\"cite_note-2\"></a> [^](#cite_ref-2) Also refs should be important to the background, not some randomly chosen vaguely related stuff. Include a web link if possible in refs as above.\n"
   ]
  },
  {
   "cell_type": "markdown",
   "metadata": {},
   "source": [
    "# Hypothesis\n"
   ]
  },
  {
   "cell_type": "markdown",
   "metadata": {},
   "source": [
    "\n",
    "- Include your team's hypothesis\n",
    "- Ensure that this hypothesis is clear to readers\n",
    "- Explain why you think this will be the outcome (what was your thinking?)\n",
    "\n",
    "What is your main hypothesis/predictions about what the answer to your question is? Briefly explain your thinking. (2-3 sentences)"
   ]
  },
  {
   "cell_type": "markdown",
   "metadata": {},
   "source": [
    "# Data"
   ]
  },
  {
   "cell_type": "markdown",
   "metadata": {},
   "source": [
    "## Data overview\n",
    "\n",
    "For each dataset include the following information\n",
    "- Dataset #1\n",
    "  - Dataset Name:\n",
    "  - Link to the dataset:\n",
    "  - Number of observations:\n",
    "  - Number of variables:\n",
    "- Dataset #2 (if you have more than one!)\n",
    "  - Dataset Name:\n",
    "  - Link to the dataset:\n",
    "  - Number of observations:\n",
    "  - Number of variables:\n",
    "- etc\n",
    "\n",
    "Now write 2 - 5 sentences describing each dataset here. Include a short description of the important variables in the dataset; what the metrics and datatypes are, what concepts they may be proxies for. Include information about how you would need to wrangle/clean/preprocess the dataset\n",
    "\n",
    "If you plan to use multiple datasets, add a few sentences about how you plan to combine these datasets."
   ]
  },
  {
   "cell_type": "markdown",
   "metadata": {},
   "source": [
    "## Dataset #1 (use name instead of number here)"
   ]
  },
  {
   "cell_type": "code",
   "execution_count": null,
   "metadata": {},
   "outputs": [],
   "source": [
    "## YOUR CODE TO LOAD/CLEAN/TIDY/WRANGLE THE DATA GOES HERE\n",
    "## FEEL FREE TO ADD MULTIPLE CELLS PER SECTION "
   ]
  },
  {
   "cell_type": "markdown",
   "metadata": {},
   "source": [
    "## Dataset #2 : Quarter Back Statistics"
   ]
  },
  {
   "cell_type": "code",
   "execution_count": 3,
   "metadata": {},
   "outputs": [
    {
     "data": {
      "text/html": [
       "<div>\n",
       "<style scoped>\n",
       "    .dataframe tbody tr th:only-of-type {\n",
       "        vertical-align: middle;\n",
       "    }\n",
       "\n",
       "    .dataframe tbody tr th {\n",
       "        vertical-align: top;\n",
       "    }\n",
       "\n",
       "    .dataframe thead th {\n",
       "        text-align: right;\n",
       "    }\n",
       "</style>\n",
       "<table border=\"1\" class=\"dataframe\">\n",
       "  <thead>\n",
       "    <tr style=\"text-align: right;\">\n",
       "      <th></th>\n",
       "      <th>name</th>\n",
       "      <th>year</th>\n",
       "      <th>season</th>\n",
       "      <th>game_week</th>\n",
       "      <th>rank</th>\n",
       "      <th>qbr</th>\n",
       "      <th>plays</th>\n",
       "      <th>pass</th>\n",
       "      <th>run</th>\n",
       "      <th>penalty</th>\n",
       "      <th>sack</th>\n",
       "      <th>qualified</th>\n",
       "      <th>pt_performance</th>\n",
       "    </tr>\n",
       "  </thead>\n",
       "  <tbody>\n",
       "    <tr>\n",
       "      <th>515</th>\n",
       "      <td>P. Manning</td>\n",
       "      <td>2013</td>\n",
       "      <td>Regular</td>\n",
       "      <td>Season Total</td>\n",
       "      <td>1.0</td>\n",
       "      <td>79.0</td>\n",
       "      <td>739</td>\n",
       "      <td>110.2</td>\n",
       "      <td>-4.0</td>\n",
       "      <td>4.1</td>\n",
       "      <td>-7.4</td>\n",
       "      <td>True</td>\n",
       "      <td>0.639762</td>\n",
       "    </tr>\n",
       "    <tr>\n",
       "      <th>516</th>\n",
       "      <td>P. Rivers</td>\n",
       "      <td>2013</td>\n",
       "      <td>Regular</td>\n",
       "      <td>Season Total</td>\n",
       "      <td>2.0</td>\n",
       "      <td>75.1</td>\n",
       "      <td>653</td>\n",
       "      <td>81.7</td>\n",
       "      <td>0.8</td>\n",
       "      <td>4.2</td>\n",
       "      <td>-11.3</td>\n",
       "      <td>True</td>\n",
       "      <td>0.525510</td>\n",
       "    </tr>\n",
       "    <tr>\n",
       "      <th>517</th>\n",
       "      <td>J. Cutler</td>\n",
       "      <td>2013</td>\n",
       "      <td>Regular</td>\n",
       "      <td>Season Total</td>\n",
       "      <td>3.0</td>\n",
       "      <td>70.1</td>\n",
       "      <td>401</td>\n",
       "      <td>35.0</td>\n",
       "      <td>7.6</td>\n",
       "      <td>-0.3</td>\n",
       "      <td>-7.3</td>\n",
       "      <td>True</td>\n",
       "      <td>0.510081</td>\n",
       "    </tr>\n",
       "    <tr>\n",
       "      <th>518</th>\n",
       "      <td>N. Foles</td>\n",
       "      <td>2013</td>\n",
       "      <td>Regular</td>\n",
       "      <td>Season Total</td>\n",
       "      <td>4.0</td>\n",
       "      <td>69.5</td>\n",
       "      <td>418</td>\n",
       "      <td>32.4</td>\n",
       "      <td>5.9</td>\n",
       "      <td>2.4</td>\n",
       "      <td>-11.9</td>\n",
       "      <td>True</td>\n",
       "      <td>0.515209</td>\n",
       "    </tr>\n",
       "    <tr>\n",
       "      <th>519</th>\n",
       "      <td>D. Brees</td>\n",
       "      <td>2013</td>\n",
       "      <td>Regular</td>\n",
       "      <td>Season Total</td>\n",
       "      <td>5.0</td>\n",
       "      <td>69.1</td>\n",
       "      <td>760</td>\n",
       "      <td>71.0</td>\n",
       "      <td>2.8</td>\n",
       "      <td>-0.3</td>\n",
       "      <td>-17.3</td>\n",
       "      <td>True</td>\n",
       "      <td>0.477974</td>\n",
       "    </tr>\n",
       "    <tr>\n",
       "      <th>...</th>\n",
       "      <td>...</td>\n",
       "      <td>...</td>\n",
       "      <td>...</td>\n",
       "      <td>...</td>\n",
       "      <td>...</td>\n",
       "      <td>...</td>\n",
       "      <td>...</td>\n",
       "      <td>...</td>\n",
       "      <td>...</td>\n",
       "      <td>...</td>\n",
       "      <td>...</td>\n",
       "      <td>...</td>\n",
       "      <td>...</td>\n",
       "    </tr>\n",
       "    <tr>\n",
       "      <th>1353</th>\n",
       "      <td>B. Mayfield</td>\n",
       "      <td>2023</td>\n",
       "      <td>Playoffs</td>\n",
       "      <td>Season Total</td>\n",
       "      <td>10.0</td>\n",
       "      <td>49.3</td>\n",
       "      <td>93</td>\n",
       "      <td>8.2</td>\n",
       "      <td>1.3</td>\n",
       "      <td>0.1</td>\n",
       "      <td>-4.4</td>\n",
       "      <td>True</td>\n",
       "      <td>0.216495</td>\n",
       "    </tr>\n",
       "    <tr>\n",
       "      <th>1354</th>\n",
       "      <td>D. Prescott</td>\n",
       "      <td>2023</td>\n",
       "      <td>Playoffs</td>\n",
       "      <td>Season Total</td>\n",
       "      <td>11.0</td>\n",
       "      <td>42.9</td>\n",
       "      <td>73</td>\n",
       "      <td>1.8</td>\n",
       "      <td>1.7</td>\n",
       "      <td>0.0</td>\n",
       "      <td>-1.0</td>\n",
       "      <td>True</td>\n",
       "      <td>0.028571</td>\n",
       "    </tr>\n",
       "    <tr>\n",
       "      <th>1355</th>\n",
       "      <td>M. Rudolph</td>\n",
       "      <td>2023</td>\n",
       "      <td>Playoffs</td>\n",
       "      <td>Season Total</td>\n",
       "      <td>12.0</td>\n",
       "      <td>40.2</td>\n",
       "      <td>44</td>\n",
       "      <td>0.7</td>\n",
       "      <td>0.8</td>\n",
       "      <td>0.2</td>\n",
       "      <td>-0.5</td>\n",
       "      <td>True</td>\n",
       "      <td>-1.058824</td>\n",
       "    </tr>\n",
       "    <tr>\n",
       "      <th>1356</th>\n",
       "      <td>J. Hurts</td>\n",
       "      <td>2023</td>\n",
       "      <td>Playoffs</td>\n",
       "      <td>Season Total</td>\n",
       "      <td>13.0</td>\n",
       "      <td>40.0</td>\n",
       "      <td>42</td>\n",
       "      <td>3.9</td>\n",
       "      <td>-1.1</td>\n",
       "      <td>-0.5</td>\n",
       "      <td>-0.8</td>\n",
       "      <td>True</td>\n",
       "      <td>-0.521739</td>\n",
       "    </tr>\n",
       "    <tr>\n",
       "      <th>1357</th>\n",
       "      <td>T. Tagovailoa</td>\n",
       "      <td>2023</td>\n",
       "      <td>Playoffs</td>\n",
       "      <td>Season Total</td>\n",
       "      <td>14.0</td>\n",
       "      <td>15.3</td>\n",
       "      <td>47</td>\n",
       "      <td>-1.9</td>\n",
       "      <td>0.5</td>\n",
       "      <td>-0.2</td>\n",
       "      <td>-0.6</td>\n",
       "      <td>True</td>\n",
       "      <td>4.312500</td>\n",
       "    </tr>\n",
       "  </tbody>\n",
       "</table>\n",
       "<p>482 rows × 13 columns</p>\n",
       "</div>"
      ],
      "text/plain": [
       "              name   year    season     game_week  rank   qbr  plays   pass  \\\n",
       "515      P. Manning  2013   Regular  Season Total   1.0  79.0    739  110.2   \n",
       "516       P. Rivers  2013   Regular  Season Total   2.0  75.1    653   81.7   \n",
       "517       J. Cutler  2013   Regular  Season Total   3.0  70.1    401   35.0   \n",
       "518        N. Foles  2013   Regular  Season Total   4.0  69.5    418   32.4   \n",
       "519        D. Brees  2013   Regular  Season Total   5.0  69.1    760   71.0   \n",
       "...             ...   ...       ...           ...   ...   ...    ...    ...   \n",
       "1353    B. Mayfield  2023  Playoffs  Season Total  10.0  49.3     93    8.2   \n",
       "1354    D. Prescott  2023  Playoffs  Season Total  11.0  42.9     73    1.8   \n",
       "1355     M. Rudolph  2023  Playoffs  Season Total  12.0  40.2     44    0.7   \n",
       "1356       J. Hurts  2023  Playoffs  Season Total  13.0  40.0     42    3.9   \n",
       "1357  T. Tagovailoa  2023  Playoffs  Season Total  14.0  15.3     47   -1.9   \n",
       "\n",
       "      run  penalty  sack  qualified  pt_performance  \n",
       "515  -4.0      4.1  -7.4       True        0.639762  \n",
       "516   0.8      4.2 -11.3       True        0.525510  \n",
       "517   7.6     -0.3  -7.3       True        0.510081  \n",
       "518   5.9      2.4 -11.9       True        0.515209  \n",
       "519   2.8     -0.3 -17.3       True        0.477974  \n",
       "...   ...      ...   ...        ...             ...  \n",
       "1353  1.3      0.1  -4.4       True        0.216495  \n",
       "1354  1.7      0.0  -1.0       True        0.028571  \n",
       "1355  0.8      0.2  -0.5       True       -1.058824  \n",
       "1356 -1.1     -0.5  -0.8       True       -0.521739  \n",
       "1357  0.5     -0.2  -0.6       True        4.312500  \n",
       "\n",
       "[482 rows x 13 columns]"
      ]
     },
     "execution_count": 3,
     "metadata": {},
     "output_type": "execute_result"
    }
   ],
   "source": [
    "import pandas as pd \n",
    "\n",
    "qb = pd.read_csv('qbr_season_level.csv')\n",
    "\n",
    "##Wrangling and cleaning \n",
    "\n",
    "# keep only data from 2013-2023\n",
    "qb = qb[qb['season'] >= 2013]\n",
    "\n",
    "# remove unnecessary columns and rearrange for comfort in reading\n",
    "qb = qb.drop(['headshot_href', 'player_id', 'team_abb', 'name_first', 'name_last', 'team', 'name_display'], axis=1)\n",
    "cols = list(qb.columns)\n",
    "cols.remove('name_short')\n",
    "qb = qb[['name_short'] + cols]\n",
    "\n",
    "# rename columns\n",
    "qb = qb.rename(columns={'season': 'year'\n",
    "                       , 'name_short' :'name '\n",
    "                       , 'qbr_total' : 'qbr'\n",
    "                       , 'qb_plays' : 'plays'\n",
    "                       , 'season_type' : 'season'})\n",
    "# get rid of null rows\n",
    "qb = qb.dropna(subset=['rank'])\n",
    "\n",
    "\n",
    "# create a new column that subtracts points added from expected points added\n",
    "qb['pt_performance'] = qb['pts_added'] / qb['epa_total']\n",
    "qb = qb.drop(['pts_added','epa_total'], axis=1)\n",
    "\n",
    "qb = qb.drop(['qbr_raw'], axis=1)\n",
    "qb = qb.drop(['exp_sack'], axis=1)\n",
    "\n",
    "qb"
   ]
  },
  {
   "cell_type": "markdown",
   "metadata": {},
   "source": [
    "This dataset consists of a comprehensive list of performance metrics for NFL quarterbacks. It features numerical variables such as quarterback ratings, points added, and boolean indicators of qualification status. To employ easier comparison between expected and actual points contributed, a new variable, \"pt_performance,\" has been added, which calculates the ratio of actual points to expected points. Additionally, variables like rank, pass, run, penalty, and sack are included, providing a basic evaluation of player performances."
   ]
  },
  {
   "cell_type": "markdown",
   "metadata": {},
   "source": [
    "# Ethics & Privacy"
   ]
  },
  {
   "cell_type": "markdown",
   "metadata": {},
   "source": [
    "- Thoughtful discussion of ethical concerns included\n",
    "- Ethical concerns consider the whole data science process (question asked, data collected, data being used, the bias in data, analysis, post-analysis, etc.)\n",
    "- How your group handled bias/ethical concerns clearly described\n",
    "\n",
    "Acknowledge and address any ethics & privacy related issues of your question(s), proposed dataset(s), and/or analyses. Use the information provided in lecture to guide your group discussion and thinking. If you need further guidance, check out [Deon's Ethics Checklist](http://deon.drivendata.org/#data-science-ethics-checklist). In particular:\n",
    "\n",
    "- Are there any biases/privacy/terms of use issues with the data you propsed?\n",
    "- Are there potential biases in your dataset(s), in terms of who it composes, and how it was collected, that may be problematic in terms of it allowing for equitable analysis? (For example, does your data exclude particular populations, or is it likely to reflect particular human biases in a way that could be a problem?)\n",
    "- How will you set out to detect these specific biases before, during, and after/when communicating your analysis?\n",
    "- Are there any other issues related to your topic area, data, and/or analyses that are potentially problematic in terms of data privacy and equitable impact?\n",
    "- How will you handle issues you identified?"
   ]
  },
  {
   "cell_type": "markdown",
   "metadata": {},
   "source": [
    "# Team Expectations "
   ]
  },
  {
   "cell_type": "markdown",
   "metadata": {},
   "source": [
    "\n",
    "Read over the [COGS108 Team Policies](https://github.com/COGS108/Projects/blob/master/COGS108_TeamPolicies.md) individually. Then, include your group’s expectations of one another for successful completion of your COGS108 project below. Discuss and agree on what all of your expectations are. Discuss how your team will communicate throughout the quarter and consider how you will communicate respectfully should conflicts arise. By including each member’s name above and by adding their name to the submission, you are indicating that you have read the COGS108 Team Policies, accept your team’s expectations below, and have every intention to fulfill them. These expectations are for your team’s use and benefit — they won’t be graded for their details.\n",
    "\n",
    "* *Team Expectation 1*\n",
    "* *Team Expectation 2*\n",
    "* *Team Expecation 3*\n",
    "* ..."
   ]
  },
  {
   "cell_type": "markdown",
   "metadata": {},
   "source": [
    "# Project Timeline Proposal"
   ]
  },
  {
   "cell_type": "markdown",
   "metadata": {},
   "source": [
    "Specify your team's specific project timeline. An example timeline has been provided. Changes the dates, times, names, and details to fit your group's plan.\n",
    "\n",
    "If you think you will need any special resources or training outside what we have covered in COGS 108 to solve your problem, then your proposal should state these clearly. For example, if you have selected a problem that involves implementing multiple neural networks, please state this so we can make sure you know what you’re doing and so we can point you to resources you will need to implement your project. Note that you are not required to use outside methods.\n",
    "\n",
    "\n",
    "\n",
    "| Meeting Date  | Meeting Time| Completed Before Meeting  | Discuss at Meeting |\n",
    "|---|---|---|---|\n",
    "| 1/20  |  1 PM | Read & Think about COGS 108 expectations; brainstorm topics/questions  | Determine best form of communication; Discuss and decide on final project topic; discuss hypothesis; begin background research | \n",
    "| 1/26  |  10 AM |  Do background research on topic | Discuss ideal dataset(s) and ethics; draft project proposal | \n",
    "| 2/1  | 10 AM  | Edit, finalize, and submit proposal; Search for datasets  | Discuss Wrangling and possible analytical approaches; Assign group members to lead each specific part   |\n",
    "| 2/14  | 6 PM  | Import & Wrangle Data (Ant Man); EDA (Hulk) | Review/Edit wrangling/EDA; Discuss Analysis Plan   |\n",
    "| 2/23  | 12 PM  | Finalize wrangling/EDA; Begin Analysis (Iron Man; Thor) | Discuss/edit Analysis; Complete project check-in |\n",
    "| 3/13  | 12 PM  | Complete analysis; Draft results/conclusion/discussion (Wasp)| Discuss/edit full project |\n",
    "| 3/20  | Before 11:59 PM  | NA | Turn in Final Project & Group Project Surveys |"
   ]
  }
 ],
 "metadata": {
  "kernelspec": {
   "display_name": "Python 3 (ipykernel)",
   "language": "python",
   "name": "python3"
  },
  "language_info": {
   "codemirror_mode": {
    "name": "ipython",
    "version": 3
   },
   "file_extension": ".py",
   "mimetype": "text/x-python",
   "name": "python",
   "nbconvert_exporter": "python",
   "pygments_lexer": "ipython3",
   "version": "3.9.5"
  }
 },
 "nbformat": 4,
 "nbformat_minor": 2
}
