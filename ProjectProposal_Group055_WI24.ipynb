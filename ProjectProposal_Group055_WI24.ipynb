{
 "cells": [
  {
   "cell_type": "markdown",
   "metadata": {},
   "source": [
    "# COGS 108 - Project Proposal"
   ]
  },
  {
   "cell_type": "markdown",
   "metadata": {},
   "source": [
    "# Names\n",
    "\n",
    "- Gabriel Colon\n",
    "- Sia Khorsand\n",
    "- Paul Kim\n",
    "- Ava Rubin\n",
    "- Ivan Smith"
   ]
  },
  {
   "cell_type": "markdown",
   "metadata": {},
   "source": [
    "# Research Question"
   ]
  },
  {
   "cell_type": "markdown",
   "metadata": {},
   "source": [
    "How do scandals involving professional athletes, defined as public controversies or legal issues, and subsequent negative media attention impact their on-field performance in specific sports (e.g., football, basketball, baseball) within a defined time frame (e.g., the first five games following the incident)?"
   ]
  },
  {
   "cell_type": "markdown",
   "metadata": {},
   "source": [
    "## Background and Prior Work"
   ]
  },
  {
   "cell_type": "markdown",
   "metadata": {},
   "source": [
    "Professional athletes receive a lot of attention both for their personal and professional lives. As a result of this, any crime, or questionable choice they make, is highly publicized, and garners a lot of attention from the media. Because of this, we are interested in seeing if/how negative media attention surrounding a player affects their performance on the field following the 'scandal'. \n",
    "\n",
    "An article published in The Eagle provides insights into the societal repercussions of scandals involving professional athletes, emphasizing shifts in public perception and media coverage<a name=\"cite_ref-1\"></a>[<sup>1</sup>](#cite_note-1). While there are detailed discussions on how scandals affect athletes' reputations and the public's view of sports figures, there is a noticeable absence of direct references to empirical studies examining the correlation between scandals and athletes' on-field performance. Instead, the focus lies on the broader implications of scandals within the context of professional sports culture, including the erosion of trust in athletes and the idealized image of sportsmanship. The texts suggest that while scandals may tarnish individual reputations and lead to temporary condemnation, they do not directly address empirical evidence linking scandals to changes in athletes' on-field performance.\n",
    "\n",
    "Additionally, one study found that athletes facing scandal-related stress may experience heightened levels of psychological strain, impacting their focus and confidence on the field<a name=\"cite_ref-2\"></a>[<sup>2</sup>](#cite_note-2). Coping strategies discussed, such as seeking social support and employing problem-focused techniques, may be crucial for athletes navigating the fallout from scandals to maintain their mental well-being and sustain optimal performance. Ultimately, the interplay between scandal-induced stress, coping mechanisms, and mental health can significantly influence athletes' ability to perform at their best under pressure.\n",
    "\n",
    "A dissertation from Florida State University explores the impact of sports scandals, categorizing them into on-field (performance-related) and off-field (non-performance-related) events<a name=\"cite_ref-3\"></a>[<sup>3</sup>](#cite_note-3). Through experimental investigation, it finds that both types of scandals have significant effects on sport consumers' team identification and behavioral intentions, with on-field scandals generally eliciting stronger negative reactions. Additionally, the study highlights the moderating role of team identification, indicating that individuals' level of identification with a team influences their responses to sports scandals.\n",
    "\n",
    "Building upon these prior studies, further research could delve deeper into the mechanisms through which scandals influence athletes' on-field performance across different sports. By considering factors such as media scrutiny, public perception, and internal team dynamics, researchers can provide valuable insights into how athletes navigate and mitigate the effects of off-field controversies on their professional endeavors.\n",
    "\n",
    "1. <a name=\"cite_note-1\"></a> [^](#cite_ref-1) Fein, M. et al. (31 Aug 2013) Quick Take: How have recent scandals changed public perceptions of professional sports and athletes? *The Eagle*. https://www.theeagleonline.com/article/2013/08/quick-take-how-have-recent-scandals-changed-public-perceptions-of-professional-sports-and-athletes\n",
    "2. <a name=\"cite_note-2\"></a> [^](#cite_ref-2) Nuetzel, B. (16 Nov 2023). Coping strategies for handling stress and providing mental health in Elite Athletes: A Systematic Review. *Frontiers in Sports and Active Living, 5*. https://doi.org/10.3389/fspor.2023.1265783 \n",
    "2. <a name=\"cite_note-3\"></a> [^](#cite_ref-3) Hamilton, J. M. (2016). The Impact of On-and Off-Field Sports Scandals on Team Identification and Consumer Behavior Intentions *The Florida State University ProQuest Dissertations Publishing*. http://purl.flvc.org/fsu/fd/FSU_2016SP_Hamilton_fsu_0071E_13026\n"
   ]
  },
  {
   "cell_type": "markdown",
   "metadata": {},
   "source": [
    "# Hypothesis\n"
   ]
  },
  {
   "cell_type": "markdown",
   "metadata": {},
   "source": [
    "Athletes implicated in scandals will exhibit a statistically significant decrease in their on-field performance, measured by key performance indicators (e.g., points scored, assists, rebounds in basketball; goals, assists, saves in soccer; runs, hits, strikeouts in baseball), in the first five games following the scandal compared to their average performance in the five games prior to the scandal."
   ]
  },
  {
   "cell_type": "markdown",
   "metadata": {},
   "source": [
    "# Data"
   ]
  },
  {
   "cell_type": "markdown",
   "metadata": {},
   "source": [
 ## IDEAL DATASET

- **Number of Observations:** The dataset should include a minimum number of observations, where each observation corresponds to one athlete involved in a scandal.
- **Athlete Identification:** Each entry should include unique identifiers for individual athletes (e.g., athlete ID, name) to track their performance over time.
- **Team Information:** Data on the teams for which the athletes play, including team name, league, and any relevant team performance metrics.
- **Pre-Scandal Performance:** Historical performance data for each athlete prior to the occurrence of the scandal, serving as a baseline for comparison. This should include at least five games before the scandal.
- **Post-Scandal Performance:** Performance data for each athlete in the games immediately following the scandal (e.g., the first five games after the scandal), enabling the assessment of any immediate impact on performance.
- **Performance Metrics:** Quantitative measures of on-field performance, including statistics such as points scored, goals/assists, yards gained, shooting percentages, etc., specific to each sport.
- **Scandal Information:** Data indicating the occurrence of scandals involving athletes, including details such as the type of scandal (e.g., legal issues, ethical controversies), date of occurrence, severity, and media coverage intensity.
- **Game Dates:** Dates of each game played by the athletes, allowing for the alignment of performance data with the occurrence of scandals.

## REAL DATASETS

- **Athlete Identification:** Each entry should include unique identifiers for individual athletes to track their performance over time.
- **Performance Metrics:** Quantitative measures of on-field performance, including statistics such as points scored, goals/assists, yards gained, shooting percentages, etc., specific to each sport (football, basketball, hockey).
- **Scandal Information:** Data indicating the occurrence of scandals involving athletes, including details such as the type of scandal (e.g., legal issues, ethical controversies), date of occurrence, severity, and media coverage intensity.
- **Game Dates:** Dates of each game played by the athletes, allowing for the alignment of performance data with the occurrence of scandals.
   ]
  },
  {
   "cell_type": "markdown",
   "metadata": {},
   "source": [
    "# Ethics & Privacy"
   ]
  },
  {
   "cell_type": "markdown",
   "metadata": {},
   "source": [
    "Our project acknowledges potential biases and privacy concerns associated with analyzing the impact of scandals on professional athletes' performance. The data collection, which relies on media reports and performance statistics, may inherently reflect biases based on media attention, potentially skewing the analysis towards more high-profile athletes or incidents. This could result in an unbalanced representation of athletes from different backgrounds or sports, raising concerns about the equitable analysis of the dataset. Furthermore, the sensitive nature of the data, which involves personal scandals, poses significant privacy and ethical challenges. It is crucial to ensure that the data handling and analysis processes respect the privacy of the individuals involved, adhering to data protection laws and ethical standards.\n",
    "\n",
    "To address these issues, we will employ a multifaceted approach.\n",
    "Firstly, we will anonymize the data to protect individuals' identities, ensuring that our analysis does not unjustly expose or target specific athletes. Secondly, we plan to use statistical methods to identify and correct for any biases present in our dataset, such as overrepresentation of certain demographics or types of scandals. This includes conducting a thorough pre-analysis to understand the dataset's composition and applying corrective measures during the analysis phase. Lastly, we commit to transparently communicating the limitations of our study, including potential biases and the steps taken to mitigate them, in our final report. By acknowledging and actively addressing these ethical and privacy concerns, we aim to conduct our research responsibly and contribute valuable insights into the field."
   ]
  },
  {
   "cell_type": "markdown",
   "metadata": {},
   "source": [
    "# Team Expectations "
   ]
  },
  {
   "cell_type": "markdown",
   "metadata": {},
   "source": [
    "\n",
    "In addition to [COGS108 Team Policies](https://github.com/COGS108/Projects/blob/master/COGS108_TeamPolicies.md)...\n",
    "\n",
    "- We will communicate via an SMS group chat\n",
    "- Attend all group meetings as possible, and communicate ASAP if you are unable to attend\n",
    "- Complete the work expected of you by the agreed upon deadline\n",
    "    - Communicate if unable to or need help\n",
    "- Respond to each other's messages in the group chat in a timely manner (<= 24 hours)\n",
    "- Everybody contributes equally to the project\n",
    "- Respect each other’s ideas\n",
    "    - No bad ideas, no stupid questions\n",
    "- Respect everyone’s skill level, and play to our strengths\n",
    "- If issues arise, address them immediately\n",
    "    - First talk about it within the team (either text, call, or in person)\n",
    "    - If issue persists or was unable to be solved internally, talk to our TA "
   ]
  },
  {
   "cell_type": "markdown",
   "metadata": {},
   "source": [
    "# Project Timeline Proposal"
   ]
  },
  {
   "cell_type": "markdown",
   "metadata": {},
   "source": [
    "| Meeting Date  | Meeting Time| Completed Before Meeting  | Discuss at Meeting |\n",
    "|---|---|---|---|\n",
    "| 02/09  |  5 PM | Brainstorm topics/questions  | Discuss and decide on final project topic; discuss hypothesis; begin background research | \n",
    "| 02/11  | 3 PM |  Do background research on topic, begin finding datasets, begin writing ethcs section | Finalize & submit project proposal | \n",
    "| 02/16  | 5 PM  | Search for datasets  | Discuss Wrangling and possible analytical approaches; Assign group members to lead each specific part   |\n",
    "| 2/18  | 3 PM  | Wrap up what we didn't get done during meeting | Review and discuss wrangling more if need be   |\n",
    "| 2/23  | 5 PM  | Import & Wrangle Data; EDA | Review/Edit wrangling/EDA; Discuss Analysis Plan; Start Checkpoint 1 |\n",
    "| 2/25  | 3 PM  | Wrap up what we didn't get done during meeting | Group check in on progess, Complete Checkpoint 1 |\n",
    "| 3/1  | 5 PM  | Finalize wrangling/EDA; Begin Analysis | Discuss/edit Analysis; Complete Analysis |\n",
    "| 3/3  | 3 PM  | Wrap up what we didn't get done during meeting | Group check in on progess |\n",
    "| 3/8  | 5 PM  | Draft results/conclusion/discussion | Finalize Results/Conclusion/Discussion; Start Checkpoint 2 |\n",
    "| 3/10  | 3 PM  | Wrap up Checkpoint 2 | Discuss and turn in checkpoint 2 |\n",
    "| 3/15  | 5 PM  | Review final project | Discuss/edit full project |\n",
    "| 3/20  | 11:59 PM  | NA | Turn in Final Project & Group Project Surveys |"
   ]
  }
 ],
 "metadata": {
  "kernelspec": {
   "display_name": "Python 3 (ipykernel)",
   "language": "python",
   "name": "python3"
  },
  "language_info": {
   "codemirror_mode": {
    "name": "ipython",
    "version": 3
   },
   "file_extension": ".py",
   "mimetype": "text/x-python",
   "name": "python",
   "nbconvert_exporter": "python",
   "pygments_lexer": "ipython3",
   "version": "3.9.5"
  }
 },
 "nbformat": 4,
 "nbformat_minor": 2
}
